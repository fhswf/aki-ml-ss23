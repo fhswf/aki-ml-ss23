{
 "cells": [
  {
   "cell_type": "markdown",
   "id": "ac690e07",
   "metadata": {},
   "source": [
    "<figure>\n",
    "  <IMG SRC=\"https://upload.wikimedia.org/wikipedia/commons/thumb/d/d5/Fachhochschule_Südwestfalen_20xx_logo.svg/320px-Fachhochschule_Südwestfalen_20xx_logo.svg.png\" WIDTH=250 ALIGN=\"right\">\n",
    "</figure>\n",
    "\n",
    "# Machine Learning\n",
    "### Sommersemester 2023\n",
    "Prof. Dr. Heiner Giefers"
   ]
  },
  {
   "cell_type": "markdown",
   "id": "c6f65feb",
   "metadata": {},
   "source": [
    "# MLP Modelle trainieren\n",
    "\n",
    "In diesem Aufgabenblatt geht es darum, MLP-Modelle mit *Scikit-learn* und *Keras* aufzustellen und zu trainieren.\n",
    "Wir verwenden dazu einen synthetischen, nicht-linear-separierbaren Datensatz mit 3 Klassen von Datenpunkten."
   ]
  },
  {
   "cell_type": "code",
   "execution_count": null,
   "id": "702d8c65",
   "metadata": {},
   "outputs": [],
   "source": [
    "import numpy as np\n",
    "import matplotlib.pyplot as plt\n",
    "\n",
    "\n",
    "def make_spirals(N=100, dim=2, classes=2, random_state=0):\n",
    "    np.random.seed(random_state)\n",
    "    X = np.zeros((N*classes,dim))\n",
    "    num_train_examples = X.shape[0]\n",
    "    y = np.zeros(N*classes, dtype='uint8')\n",
    "    for j in range(classes):\n",
    "        ix = range(N*j,N*(j+1))\n",
    "        r = np.linspace(0.0,1,N) # radius\n",
    "        k = classes+1\n",
    "        t = np.linspace(j*k,(j+1)*k,N) + np.random.randn(N)*0.2 # theta\n",
    "        X[ix] = np.c_[r*np.sin(t), r*np.cos(t)]\n",
    "        y[ix] = j\n",
    "    return X, y\n",
    "\n",
    "N=60\n",
    "dim=2\n",
    "classes=3\n",
    "random_state=0\n",
    "\n",
    "X, y = make_spirals(N, dim, classes, random_state)\n",
    "fig = plt.figure()\n",
    "plt.scatter(X[:, 0], X[:, 1], c=y, s=40, cmap=plt.cm.Spectral)\n",
    "plt.xlim([-1,1])\n",
    "plt.ylim([-1,1])"
   ]
  },
  {
   "cell_type": "markdown",
   "id": "228652e8",
   "metadata": {},
   "source": [
    "Wie man in folgendem Beispiel sieht, schneidet ein Lineares Modell bei diesen Daten sehr schlecht ab:"
   ]
  },
  {
   "cell_type": "code",
   "execution_count": null,
   "id": "7c62e769",
   "metadata": {},
   "outputs": [],
   "source": [
    "from sklearn.linear_model import LogisticRegression\n",
    "clf = LogisticRegression(random_state=0, multi_class='ovr').fit(X, y)\n",
    "clf.score(X, y)"
   ]
  },
  {
   "cell_type": "code",
   "execution_count": null,
   "id": "0e922e9f",
   "metadata": {},
   "outputs": [],
   "source": [
    "def plot_decregions_2d(X,clf):\n",
    "    '''\n",
    "    Plotte Entscheidungsgrenzen in einem\n",
    "    Datensatz mit zwei Attributen\n",
    "    \n",
    "    Parameter:\n",
    "    X: 2d numpy array der Groesse (m,n)\n",
    "    clf: Klassifizierer mit einer Methoder \"predict\"\n",
    "    '''\n",
    "    cmap = plt.get_cmap('Set1', 3)\n",
    "    h = 0.02\n",
    "    x_min, x_max = X[:, 0].min() - 1, X[:, 0].max() + 1\n",
    "    y_min, y_max = X[:, 1].min() - 1, X[:, 1].max() + 1\n",
    "    xx, yy = np.meshgrid(np.arange(x_min, x_max, h),\n",
    "                         np.arange(y_min, y_max, h))\n",
    "    Z = clf.predict(np.c_[xx.ravel(), yy.ravel()])\n",
    "    print(Z.shape)\n",
    "    if Z.ndim>1:\n",
    "        Z = np.argmax(Z, axis=1)\n",
    "        print(Z.shape)\n",
    "    Z = Z.reshape(xx.shape)\n",
    "    fig = plt.figure()\n",
    "    plt.contourf(xx, yy, Z, cmap=cmap, alpha=0.4)\n",
    "    plt.scatter(X[:, 0], X[:, 1], c=y, s=40, ec='black', cmap=cmap)\n",
    "    plt.xlim(xx.min(), xx.max())\n",
    "    plt.ylim(yy.min(), yy.max())"
   ]
  },
  {
   "cell_type": "code",
   "execution_count": null,
   "id": "c4d2680f",
   "metadata": {},
   "outputs": [],
   "source": [
    "plot_decregions_2d(X,clf)"
   ]
  },
  {
   "cell_type": "markdown",
   "id": "6d783872",
   "metadata": {},
   "source": [
    "**Aufgabe:** Trainieren Sie einen MLPClassifier (aus SKlearn) für den Datensatz. Das MLP soll einen *hidden layer* mit 32 Neuronen besitzen. Welche *Classification Accuracy* Erreicht Ihr Modell für den Trainigsdatensatz? Plotten Sie die Entscheidungsgrenzen Ihres Modells."
   ]
  },
  {
   "cell_type": "code",
   "execution_count": null,
   "id": "c96e43e1",
   "metadata": {
    "deletable": false,
    "nbgrader": {
     "grade": true,
     "grade_id": "cell-8460476e9d770622",
     "locked": false,
     "points": 0,
     "schema_version": 3,
     "solution": true,
     "task": false
    }
   },
   "outputs": [],
   "source": [
    "from sklearn.neural_network import MLPClassifier\n",
    "# YOUR CODE HERE\n",
    "raise NotImplementedError()"
   ]
  },
  {
   "cell_type": "markdown",
   "id": "e3dfda59",
   "metadata": {},
   "source": [
    "**Aufgabe:** Erstellen Sie das gleiche Modell mit Tensorflow. verwenden Sie dazu die *Keras Sequential API*."
   ]
  },
  {
   "cell_type": "code",
   "execution_count": null,
   "id": "b9a8b083",
   "metadata": {
    "deletable": false,
    "nbgrader": {
     "grade": true,
     "grade_id": "cell-7bfb6ed1c881436e",
     "locked": false,
     "points": 0,
     "schema_version": 3,
     "solution": true,
     "task": false
    }
   },
   "outputs": [],
   "source": [
    "import tensorflow as tf\n",
    "from tensorflow import keras\n",
    "\n",
    "tX = X.astype('float64')\n",
    "ty = y.astype('float64')\n",
    "\n",
    "optimizer ='RMSprop'\n",
    "loss = None\n",
    "metrics = None\n",
    "\n",
    "# YOUR CODE HERE\n",
    "raise NotImplementedError()\n",
    "\n",
    "\n",
    "\n",
    "#Modell erzeugen\n",
    "model.compile(optimizer,loss,metrics)\n",
    "\n",
    "model.summary()\n"
   ]
  },
  {
   "cell_type": "code",
   "execution_count": null,
   "id": "6e54acb0",
   "metadata": {},
   "outputs": [],
   "source": [
    "#Modell trainieren\n",
    "model.fit(tX, ty, epochs=500, verbose=0)\n",
    "plot_decregions_2d(tX,model)"
   ]
  },
  {
   "cell_type": "markdown",
   "id": "8f4bd6f0",
   "metadata": {},
   "source": [
    "**Aufgabe:** Geben Sie die Accuracy des trainierten Modells für die Trainingsdaten aus."
   ]
  },
  {
   "cell_type": "code",
   "execution_count": null,
   "id": "541cd13d",
   "metadata": {
    "deletable": false,
    "nbgrader": {
     "grade": true,
     "grade_id": "cell-cbc286d0f0438386",
     "locked": false,
     "points": 0,
     "schema_version": 3,
     "solution": true,
     "task": false
    }
   },
   "outputs": [],
   "source": [
    "test_loss = None\n",
    "test_acc = None\n",
    "\n",
    "# YOUR CODE HERE\n",
    "raise NotImplementedError()\n",
    "\n",
    "print('Test accuracy:', test_acc)"
   ]
  },
  {
   "cell_type": "markdown",
   "id": "0c8a89b6",
   "metadata": {},
   "source": [
    "Weitere *Experimente* mit mehrschichtigen Netzen und synthetisch generierten Datensätzen können Sie mit dem [TensorFlow Playground](https://playground.tensorflow.org) unternehmen."
   ]
  }
 ],
 "metadata": {
  "kernelspec": {
   "display_name": "Python 3 (ipykernel)",
   "language": "python",
   "name": "python3"
  },
  "language_info": {
   "codemirror_mode": {
    "name": "ipython",
    "version": 3
   },
   "file_extension": ".py",
   "mimetype": "text/x-python",
   "name": "python",
   "nbconvert_exporter": "python",
   "pygments_lexer": "ipython3",
   "version": "3.10.8"
  },
  "varInspector": {
   "cols": {
    "lenName": 16,
    "lenType": 16,
    "lenVar": 40
   },
   "kernels_config": {
    "python": {
     "delete_cmd_postfix": "",
     "delete_cmd_prefix": "del ",
     "library": "var_list.py",
     "varRefreshCmd": "print(var_dic_list())"
    },
    "r": {
     "delete_cmd_postfix": ") ",
     "delete_cmd_prefix": "rm(",
     "library": "var_list.r",
     "varRefreshCmd": "cat(var_dic_list()) "
    }
   },
   "types_to_exclude": [
    "module",
    "function",
    "builtin_function_or_method",
    "instance",
    "_Feature"
   ],
   "window_display": false
  }
 },
 "nbformat": 4,
 "nbformat_minor": 5
}
