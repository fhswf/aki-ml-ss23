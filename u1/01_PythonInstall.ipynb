{
 "cells": [
  {
   "cell_type": "markdown",
   "id": "ca306407",
   "metadata": {},
   "source": [
    "<figure>\n",
    "  <IMG SRC=\"https://upload.wikimedia.org/wikipedia/commons/thumb/d/d5/Fachhochschule_Südwestfalen_20xx_logo.svg/320px-Fachhochschule_Südwestfalen_20xx_logo.svg.png\" WIDTH=250 ALIGN=\"right\">\n",
    "</figure>\n",
    "\n",
    "# Machine Learning\n",
    "### Sommersemester 2023\n",
    "Prof. Dr. Heiner Giefers"
   ]
  },
  {
   "cell_type": "markdown",
   "metadata": {},
   "source": [
    "# Einführung\n",
    "\n",
    "In diesem Modul wollen wir verschiedene Verfahren aus dem Bereich des Maschinellen Lernens (**ML**) untersuchen.\n",
    "Die gängiste Programmiersprachen, die zur Entwicklung von ML-Anwendungen eingesetzt wird ist Python.\n",
    "Die allermeisten Bücher (so auch das Lehrbuch zur Veranstaltung) basieren auf Python.\n",
    "Daher sollten Sie sich auf Ihrem PC oder Notebook eine entsprechende Programmierumgebung einrichten.\n",
    "Im folgenden wird kurz vorgestellt, welche Schritte dazu notwendig sind."
   ]
  },
  {
   "cell_type": "markdown",
   "metadata": {},
   "source": [
    "# Python\n",
    "\n",
    "Python ist eine sogenannte Multiparadigmensprache, was bedeutet, dass mehrerer Programmieransätze von der Sprache unterstüzt werden.\n",
    "In Python kann man sowohl imperativ, als auch objektorientiert, funktional und aspektorientiert programmieren.\n",
    "Was das im einzelnen bedeutet, werden wir im Verlauf des Moduls noch genauer sehen.\n",
    "\n",
    "Die Sprache selbst frei verfügbar und der Sprachstandard ist open-source.\n",
    "Die Python Software Foundation steht als gemeinnützige Organisation hinter der Weiterentwicklung des Sprachstandards und der Referenzimplementation des Interpreters (CPython).\n",
    "\n",
    "Zu etwas Verwirrung führt gelegentlich die Tatsache, dass mit der Version 3.0 im Jahre 2008 der Python-Standard von Grund auf überarbeitet wurde und damit nicht mehr abwärtskompatibel ist.\n",
    "Das bedeutet, dass Python Programme, die den (heute immer noch verbreiteten) Standard 2.7 verwenden, nicht mehr mit Interpretern des neueren Standards ausgeführt werden können.\n",
    "\n"
   ]
  },
  {
   "cell_type": "markdown",
   "metadata": {},
   "source": [
    "## Auswahl und Installation einer Python-Distribution\n",
    "\n",
    "Eine Hauptinformationsquelle und der erste Anlaufpunkt zum Thema Python ist www.python.org.\n",
    "Dort finden Sie Links zum Sprachstandard, Dokumentationen und zur Referenzimplementation der Laufzeitumgebung mit dem Interpreter CPython.\n",
    "Da Python eine offene Sprache ist, gibt es aber noch weitere Implementationen der Sprache, eine Auswahl finden Sie auf wiki.python.org/moin/PythonDistributions.\n",
    "\n",
    "Eine Distribution, die sich in letzter Zeit besonderer Beliebtheit erfreut ist Anaconda [https://www.anaconda.com/distribution].\n",
    "Die Distribution beinhaltet u.a. die integrierte Entwicklungsumgebung (IDE)  Spyder, den Kommandozeileninterpreter IPython, das webbasierte Umgebung Jupyter, sowie mächtige Werkzeuge für die Installation und Verwaltung von zusätzlichen Softwarepaketen.\n",
    "\n",
    "Die Beispiele im Lehrbuch, sowie in den weiteren Lehrmaterialien verwenden die Anaconda Distribution.\n",
    "Um kompatibilitätsproblemen vorzubeugen, empfehle ich Ihnen, auf Ihren privaten Geräten ebenfalls die Anaconda distribution zu verwenden."
   ]
  },
  {
   "cell_type": "markdown",
   "metadata": {},
   "source": [
    "Die folgenden Abschnitte zeigen, wie Sie eine Anaconda-Installation auf ihrem Computer verwenden können."
   ]
  },
  {
   "cell_type": "markdown",
   "metadata": {},
   "source": [
    "## Python im interaktiven Modus nutzen\n",
    "\n",
    "Rufen Sie das Programm `ipython` auf.\n",
    "Wenn Sie einen Anaconda auf einem Windows Computer installiert haben, finden Sie ein ausführbares Programm *ipython.exe* standardmäßig unter folgendem Dateipfad: `C:\\Users\\<Benutzername>\\Anaconda3\\Scripts\\`.\n",
    "Bei der Installation fügt Anaconda normalerweise das `Scripts`-Verzeichnis Ihrem Suchpfad hinzu, so dass die Programme von überall aus (also z.B. über die Windows-Suche) starten können.\n",
    "\n",
    "Ebenfalls in der Anaconda Distribution mitgeliefert, ist die standard Python Shell, die Sie mit dem Kommando `python.exe` aufrufen können.\n",
    "Im Vergleich dazu bietet ihnen die ipython Shell eine farbige Hervorhebung von Schlüsselwörtern, eine formatierte Code-Darstellung und Auto-Vervollständigung.\n",
    "Für die ersten Schritte in Python bietet es sich an, die interaktive Shell zu verwenden.\n",
    "\n",
    "![](ipython.png)\n",
    "\n"
   ]
  },
  {
   "cell_type": "markdown",
   "metadata": {},
   "source": [
    "## Python Skripte\n",
    "\n",
    "Die interaktive Python-Shell ist im grunde nichts anderes als ein Konsolenprogramm, dass Ihre Kommandos an den Python-Interpreter weiterleitet und dessen Ausgaben anzeigt.\n",
    "Neben der interaktiven Verarbeitung, können aber auch Anweisungen in einer Datei zusammengefasst werden und als Ganzes an den Interpreter übergeben werden.\n",
    "Diese Dateien werden dann auch Skriptdatei oder kurz, Skript genannt.\n",
    "Im Fall von Python ist die Dateiendung `.py` üblich, aber nicht vorgeschrieben.\n",
    "Der Name des Skripts wird normalerweise als Argument an den Interpreter übergeben, als z.B. `python.exe myscript.py`.\n",
    "\n",
    "Auf UNIX-artigen Betriebssystemen ist es möglich und üblich, am Anfang der Skriptdatei den zur Ausführung benötigten Interpreter über einen sogenannten *Shebang* (oder auch *Hashbang*) anzugeben.\n",
    "Wenn man das Skript selbst, als ausführbares Programm in einer UNIX-Shell startet, so wird zuerst über das Kommando nach den beiden Zeichen `#!` die Ausführungsumgebung gestartet und dann das Skript als Argument an diese Umgebung übergeben.\n",
    "Folgendes Beispiel zeigt ein einfaches Python-Skript, das die Versionsnummer des Interpreters auf der Kommandozeile ausgibt:\n",
    "\n",
    "```python\n",
    "#!/usr/bin/env python\n",
    "import sys\n",
    "print(sys.version)\n",
    "```"
   ]
  },
  {
   "cell_type": "markdown",
   "metadata": {},
   "source": [
    "## Python Notebooks\n",
    "\n",
    "Jupyter Notebook ist eine Webanwendung, die eine graphische Benutzeroberfläche für Python (und andere Programmier-/Skriptsprachen) bietet.\n",
    "Notebooks sind Dokumente die aus einer Folge von Zellen bestehen und einem Ausführungskernel zugeordnet sind.\n",
    "Häufig wird als Kernel ein Python Interpreter verwendet, Jupyter unterstüzt aber eine Reihe weiterer [Kernels](https://github.com/jupyter/jupyter/wiki/Jupyter-kernels).\n",
    "Die einzelnen Zellen sind unterschiedlichen Typen zugeordnet, die wichtigsten Typen sind Code-Zellen und Markdown-Zellen.\n",
    "Code-Zellen werden durch Drückern der Tastenkomination *Umschalttaste+Enter* (oder durch Klicken des *Run*-Buttons) auf dem assoziierten Kernel ausgeführt.\n",
    "Markdown-Zellen enthalten neben reinem Text noch Formatierungsanweisungen; sie werden ebenso wie Code-Zellen durch *Umschalttaste+Enter* bestätigt und daraufhin vom Jupyter System gerendert.\n",
    "Die [Markdown Syntax](https://jupyter-notebook.readthedocs.io/en/stable/examples/Notebook/Working%20With%20Markdown%20Cells.html) ist relativ leicht zu erlernen, bietet aber gleichzeit alle Wichtigen Funktionen zum Erstellen optisch ansprechender Dokumente.\n",
    "\n",
    "![](notebooks.png)"
   ]
  },
  {
   "cell_type": "markdown",
   "metadata": {},
   "source": [
    "Die Aufgaben und Übungsblätter zu diesem Modul werden als html und Python Notebook zur Verfügung gestellt.\n",
    "Wenn Sie die Notebook-Version einsetzen, können Sie die Dokumente nicht nur lesen (wie im html-Modus), sonder direkt in ihnen arbeiten.\n",
    "Sie können neue Code-Zellen einfügen und eigene Experimente durchführen.\n",
    "Der Lerneffekt ist dabei wesentlich größer und daher empfehle ich Ihnen, die Jupyter Notebooks einzusetzen."
   ]
  }
 ],
 "metadata": {
  "kernelspec": {
   "display_name": "Python 3",
   "language": "python",
   "name": "python3"
  },
  "language_info": {
   "codemirror_mode": {
    "name": "ipython",
    "version": 3
   },
   "file_extension": ".py",
   "mimetype": "text/x-python",
   "name": "python",
   "nbconvert_exporter": "python",
   "pygments_lexer": "ipython3",
   "version": "3.8.5"
  }
 },
 "nbformat": 4,
 "nbformat_minor": 4
}
