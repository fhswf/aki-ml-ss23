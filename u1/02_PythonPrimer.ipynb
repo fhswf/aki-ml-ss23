{
 "cells": [
  {
   "cell_type": "markdown",
   "id": "f70d0eb1",
   "metadata": {},
   "source": [
    "<figure>\n",
    "  <IMG SRC=\"https://upload.wikimedia.org/wikipedia/commons/thumb/d/d5/Fachhochschule_Südwestfalen_20xx_logo.svg/320px-Fachhochschule_Südwestfalen_20xx_logo.svg.png\" WIDTH=250 ALIGN=\"right\">\n",
    "</figure>\n",
    "\n",
    "# Machine Learning\n",
    "### Sommersemester 2022\n",
    "Prof. Dr. Heiner Giefers"
   ]
  },
  {
   "cell_type": "markdown",
   "metadata": {},
   "source": [
    "# Erste Schritte in Python"
   ]
  },
  {
   "cell_type": "markdown",
   "metadata": {},
   "source": [
    "## Variablen\n",
    "\n",
    "Python ist fundamental objektorientiert. Das heißt nicht nur, dass Sie in Python objektorientiert programmieren können. Es gilt auch der Leitsatz: *Alles in Python ist ein Objekt*. Also selbst grundlegende Datentypen wie `int`, `float` und `str`, sowie Funktionen sind Objekte. Daher sind Variablen in Python immer Referenzen auf Objekte.\n",
    "\n",
    "Wie viele andere Skriptprachen auch, ist Python dynamisch typisiert. Das bedeutet, dass Sie keine Typangaben bei der Definition einer Variablen angeben müssen. Python leitet automatisch den passenden Typ ab, bzw. es wählt den \"am besten passenden\" Typ aus.\n",
    "\n",
    "Sie können daher Variablen in Python wie folgt definieren:"
   ]
  },
  {
   "cell_type": "code",
   "execution_count": null,
   "metadata": {},
   "outputs": [],
   "source": [
    "a = 42\n",
    "b = 1.23\n",
    "ab = 'Hallo'"
   ]
  },
  {
   "cell_type": "markdown",
   "metadata": {},
   "source": [
    "Für Variablennamen gelten die Gleichen Regeln wie für die Bezeichner in C/C++. Variablen müssen mit einem Buchstaben oder Unterstrich beginnen und können sich ab dem 2. Zeichen aus einer beliebigen Folge von Buchstaben, Ziffern und Unterstrichen zusammensetzen.\n",
    "\n",
    "Es gibt allerdings einige Konventionen für die Wahl von Bezeichnern. So gelten Variablen, die mit 2 Unterstrichen beginnen als *privat*, Namen mit 2 Unterstrichen am Anfang und am Ende sind für spezielle Attribute und Methoden reserviert (\"*magic methods*\")."
   ]
  },
  {
   "cell_type": "markdown",
   "metadata": {},
   "source": [
    "Die skalaren, also elementare oder nicht-zusammengesetzten Datentypen in Python sind:\n",
    "- `int` Ganze Zahlen\n",
    "- `float` Fließkommazahlen mit 64-bit Präzision\n",
    "- `complex` Komplexe Zahlen\n",
    "- `bool` Bool'scher Datentyp mit den Werten `True` und `False`\n",
    "- `NoneType` signalisiert das Nicht-Vorhandensein einer Referenz, ähnlich zu `NULL` oder `NIL` in anderen Sprachen\n",
    "\n",
    "Die Typen `str` für Zeichenketten sowie `bytes` für Folgen von 8-bit (vorzeichenlosen) Werten (zum Verarbeiten von Binärdaten) gehören zu den *Sequentiallen Datentypen*."
   ]
  },
  {
   "cell_type": "markdown",
   "metadata": {},
   "source": [
    "## Operationen\n",
    "\n",
    "Für die meisten Datentypen existieren die bekannten Operationen (`+`, `-`, `*`, `/`) mit der üblichen Bedeutung. Daneben gibt es noch den Operator `//`, für die ganzzahlige Division, den Modulo-Operator `%` und den Potenz-Operator `**`."
   ]
  },
  {
   "cell_type": "code",
   "execution_count": null,
   "metadata": {},
   "outputs": [],
   "source": [
    "a = 2 + 1.23\n",
    "b = 22.2//3\n",
    "c = \"Hallo \" + \"Welt\"\n",
    "d = 2**8\n",
    "print(a, b, c, d)"
   ]
  },
  {
   "cell_type": "markdown",
   "metadata": {},
   "source": [
    "Die `print` Funktion, wie oben verwendet, benötigt man ziemlich häufig.\n",
    "Ruft man sie mit einer (beliebigen) Folge von Parametern aus, so wird für jeden Variable, entsprechend ihres Typs, eine passende *print* Methode aufgerufen. In Python heißt die Methode `__str__()`, sie entspricht in etwa der `toString()`-Methode aus Java.\n",
    "\n",
    "Um eine formatierte Ausgabe zu erhalten, kann man einen Format-String mit Platzhaltern angeben, ähnlich wie bei der `printf`-Funktion aus C. Über den Modulo-Operator können dann die Variablen angegeben werden, die an den Platzhaltern eingesetzt werden sollen.\n",
    "Für unser Beispiel oben sieht das dann z.B. so aus:"
   ]
  },
  {
   "cell_type": "code",
   "execution_count": null,
   "metadata": {},
   "outputs": [],
   "source": [
    "print(\"a = %f, b = %d, c = %s, d = %s\" % (a, b, c, d))"
   ]
  },
  {
   "cell_type": "markdown",
   "metadata": {},
   "source": [
    "Python ist stark typisiert. D.h., dass Variablen immer einen eindeutigen Typ haben und an keiner Stelle eine implizite Typumwandlung stattfinden kann. Jede Änderung des Typs erfordert eine explizite Typkonvertierung. Ein Ausdruck wie `\"Hallo\"+2` kann nicht ausgewertet werden, da die `+`-Operation für einen String und einen Integer nicht definiert ist.\n",
    "In diesem Fall kann man eine Typenwandlung, z.B. von `int` nach `str` vornehmen:"
   ]
  },
  {
   "cell_type": "code",
   "execution_count": null,
   "metadata": {},
   "outputs": [],
   "source": [
    "\"Hallo\" + str(2)"
   ]
  },
  {
   "cell_type": "markdown",
   "metadata": {},
   "source": [
    "## Sequentielle Datentypen\n",
    "\n",
    "Unter sequenziellen Datentypen wird eine Klasse von Datentypen zusammengefasst, die Folgen von **gleichartigen oder verschiedenen Elementen** verwalten.\n",
    "In Listen und Tupel können beliebige Folgen von Daten abgelegt sein. Die gespeicherten Elemente haben eine definierte Reihenfolge und man kann über eindeutige Indizes auf sie zugreifen. Listen sind veränderbar, d.h., man kann einzelne Elemente  ändern, löschen oder hinzufügen. Tupel sind nicht veränderbar. Das bedeutet, bei jeder Änderung wird ein komplett neues Objekt mit den geänderten Elmenten angelegt."
   ]
  },
  {
   "cell_type": "code",
   "execution_count": null,
   "metadata": {},
   "outputs": [],
   "source": [
    "a = [3.23, 7.0, \"Hallo Welt\", 256]\n",
    "b = (3.23, 7.0, \"Hallo Welt\", 256)\n",
    "print(\"Liste a = %s\\nTupel b =%s\" % (a,b) )\n",
    "print(\"Das dritte Element von b ist \" + b[2])\n",
    "print(\"Gleiche Referenz? %s. Gleicher Inhalt? %s\" % (a == b, set(a)==set(b)))"
   ]
  },
  {
   "cell_type": "markdown",
   "metadata": {},
   "source": [
    "Das obige Beispiel bringt uns direkt zum nächsten Datentyp, den Mengen (oder engl. *sets*).\n",
    "Wie bei den Mengen aus der Mathematik kann ein set in Python jedes Objekt nur einmal enthalten.\n",
    "Wenn wir also aus der Liste [4,4,4,4,3,3,3,2,2,1] eine Menge machen, hat diese folgende Elemente:"
   ]
  },
  {
   "cell_type": "code",
   "execution_count": null,
   "metadata": {},
   "outputs": [],
   "source": [
    "set([4,4,4,4,3,3,3,2,2,1])"
   ]
  },
  {
   "cell_type": "markdown",
   "metadata": {},
   "source": [
    "Die elemente tauchen nun nicht nur einmalig auf, sondern sie sind auch umsortiert worden.\n",
    "Man darf sich hier nicht täuschen lassen, die Elemente einer Menge sind immer unsortiert.\n",
    "D.h., man kann keine spezielle Sortierung erwarten, auch wenn die Ausgabe in manchen Fällen danach aussieht."
   ]
  },
  {
   "cell_type": "markdown",
   "metadata": {},
   "source": [
    "Ein weitere sequentieller Datentyp sind Dictionaries (die deutsche Übersetzung *Wörterbücher* passt hier nicht so gut).\n",
    "Diectionaries sind eine Menge von *Schlüssel-Wert-Paaren*.\n",
    "Das bedeutet, dass jeder Wert im Dictionary unter einem frei wählbaren Schlüssel abgelegt ist, und auch über diesen Schlüssel zugegriffen werden kann."
   ]
  },
  {
   "cell_type": "code",
   "execution_count": null,
   "metadata": {},
   "outputs": [],
   "source": [
    "haupstaedte = {\"DE\" : \"Berlin\", \"FR\" : \"Paris\", \"US\" : \"Washington\", \"CH\" : \"Zurich\"}\n",
    "print(haupstaedte[\"FR\"])\n",
    "haupstaedte[\"US\"] = \"Washington, D.C.\"\n",
    "print(haupstaedte[\"US\"])"
   ]
  },
  {
   "cell_type": "markdown",
   "metadata": {},
   "source": [
    "## Funktionen \n",
    "\n",
    "Funktionen in Python werden über das Schlüsselwort `def` definiert. Die Syntax einer Funktions-Definition sieht folgendermaßen aus:\n",
    "\n",
    "```python\n",
    "def myfunc(arg1, arg2,... argN):  \n",
    "  '''Dokumentation'''  \n",
    "\n",
    "  #Programmcode  \n",
    "\n",
    "  return <Rückgabewert>  \n",
    "```\n",
    "\n",
    "Hier wird die Funktion \"myfunc\" definiert, welche mit den Parametern \"arg1,arg2,....argN\" aufgerufen werden kann.\n",
    "\n",
    "Wir sehen hier auch ein weiteres Konzept von Python, das wir bisher noch nicht angesprochen haben. Die Strukturierung von Code in Blöcke erfolgt über **Einrückungen**.\n",
    "Für eine Funktion bedeutet das, dass der Code des Funktionskörpers um eine Stufe gegenüber der Funktionsdefinition eingerückt sein muss. Wenn der Funktionskörpers weitere Kontrollstrukturen enthält, z.B. Schleifen oder Bedingungen, sind weitere Einrückungen nötig. Betrachten Sie folgendes Beispiel:"
   ]
  },
  {
   "cell_type": "code",
   "execution_count": null,
   "metadata": {},
   "outputs": [],
   "source": [
    "def gib_was_aus():\n",
    "    print(\"Eins\")\n",
    "    print(\"Zwei\")\n",
    "print(\"Drei\")\n",
    "gib_was_aus()"
   ]
  },
  {
   "cell_type": "markdown",
   "metadata": {},
   "source": [
    "Hier wird zuerst eine Funktion `gib_was_aus` definiert. Die Anweisung `print(\"Drei\")` ist nicht mehr eingerückt, gehört daher nicht mehr zur Funktion."
   ]
  },
  {
   "cell_type": "markdown",
   "metadata": {},
   "source": [
    "Funktionen können fast überall definiert sein, also z.B. auch innerhalb von anderen Funktionen.\n",
    "Rückgaben erfolgen, wie auch in anderen Programmiersprachen üblich mit den Schlüsselwort `return`.\n",
    "Falls mehrere Elemente zurückgegeben werden sollen, können diese z.B. in ein Tupel gepackt werden:"
   ]
  },
  {
   "cell_type": "code",
   "execution_count": null,
   "metadata": {},
   "outputs": [],
   "source": [
    "def inc(a, b, c):\n",
    "    return a+1, b+1, c+\"B\"\n",
    "a=b=1\n",
    "c=\"A\"\n",
    "a,b,c = inc(a,b,c)\n",
    "print(a,b,c)"
   ]
  },
  {
   "cell_type": "markdown",
   "metadata": {},
   "source": [
    "## Verzweigungen\n",
    "\n",
    "Wir haben bisher noch keine Kontrollstrukturen, also Verzweigungen oder Schleifen angesprochen.\n",
    "Eine Bedingung oder Verzeigung funktioniert in Python (wie üblich) über ein `if`-`else`-Konstrukt.\n",
    "Auch hier werden zur Strukturierung der Blöcke Einrückungen benutzt."
   ]
  },
  {
   "cell_type": "code",
   "execution_count": null,
   "metadata": {},
   "outputs": [],
   "source": [
    "a=2\n",
    "if a==0:\n",
    "    print(\"a ist Null\")\n",
    "else:\n",
    "    print(\"a ist nicht Null\")\n"
   ]
  },
  {
   "cell_type": "markdown",
   "metadata": {},
   "source": [
    "Um tiefe Verschachtelungen zu vermeiden, gibt es noch ein `elif`-Anweisung:"
   ]
  },
  {
   "cell_type": "code",
   "execution_count": null,
   "metadata": {},
   "outputs": [],
   "source": [
    "a=2\n",
    "if a<0:\n",
    "    print(\"a ist negativ\")\n",
    "elif a>0:\n",
    "    print(\"a ist positiv\")\n",
    "else:\n",
    "    print(\"a ist Null\")"
   ]
  },
  {
   "cell_type": "markdown",
   "metadata": {},
   "source": [
    "## Schleifen\n",
    "\n",
    "In Python gibt es die Schleifentypen, `while` und `for`, wobei letztere eine etwas ungewöhnliche Syntax hat.\n",
    "Die `while`-Schleife hingegen wird wie in vielen bekannten Programmiersprachen benutzt:"
   ]
  },
  {
   "cell_type": "code",
   "execution_count": null,
   "metadata": {},
   "outputs": [],
   "source": [
    "i = 5\n",
    "while i>0:\n",
    "    print(i)\n",
    "    i -= 2"
   ]
  },
  {
   "cell_type": "markdown",
   "metadata": {},
   "source": [
    "Anders als z.B. in C/C++ oder Java läuft eine `for`-Schleife in Python nicht über eine Zählvariable, sondern über *die Elemente eines iterierbaren Datentyps*.\n",
    "Einige Beispiele für iterierbaren Datentypen haben wir schon als sequentielle Datentypen kennen gelernt.\n",
    "Wir können z.B. mit einer `for`-Schleife alle Elemente eines Dictionaries besuchen:"
   ]
  },
  {
   "cell_type": "code",
   "execution_count": null,
   "metadata": {},
   "outputs": [],
   "source": [
    "haupstaedte = {\"DE\" : \"Berlin\", \"FR\" : \"Paris\", \"US\" : \"Washington\", \"CH\" : \"Zurich\"}\n",
    "for s in haupstaedte:\n",
    "    print(haupstaedte[s])"
   ]
  },
  {
   "cell_type": "markdown",
   "metadata": {},
   "source": [
    "Wir sehen, dass die Laufvariable hier alle Schlüssel des Dictionaries annimmt. Bei einer Liste wird über alle Werte iteriert:"
   ]
  },
  {
   "cell_type": "code",
   "execution_count": null,
   "metadata": {},
   "outputs": [],
   "source": [
    "a = [3.23, 7.0, \"Hallo Welt\", 256]\n",
    "for s in a:\n",
    "    print(s)"
   ]
  },
  {
   "cell_type": "markdown",
   "metadata": {},
   "source": [
    "Neben den sequentiellen Datentypen liefern noch sogenannte **Generatoren** Folgen von Werten die iterierbar sind. Der bekannteste iterator ist `range()`.\n",
    "`range` kann mehrere Argumente haben. Ist nur ein Argument `E` angegeben, so läuft der iterator von 0 bis `E-1`.\n",
    "`range(S, E)` läuft von S bis `E-1`, und `range(S, E, K)` läuft von S bis `E-1` mit der Schrittweite `K`"
   ]
  },
  {
   "cell_type": "code",
   "execution_count": null,
   "metadata": {},
   "outputs": [],
   "source": [
    "print(\"Ein Parameter:\", end=\" \")\n",
    "for s in range(5): print(s, end=\" \")\n",
    "\n",
    "print(\"\\nZwei Parameter:\", end=\" \")\n",
    "for s in range(2,5): print(s, end=\" \")\n",
    "\n",
    "print(\"\\nDrei Parameter:\", end=\" \")\n",
    "for s in range(0,5,2): print(s, end=\" \")"
   ]
  },
  {
   "cell_type": "markdown",
   "metadata": {},
   "source": [
    "Das zusätzliche Argument `end=\" \"` in den `print`-Anweisungen oben verhindert übrigens einen Zeilenumbruch.\n",
    "Ohne diesen Parameter würden alle Werte in einer Spalter untereinander ausgegeben."
   ]
  },
  {
   "cell_type": "markdown",
   "metadata": {},
   "source": [
    "Damit endet unser erster *Crash Kurs* zum Thema Python. Sie haben nun die wichtigsten Elemente der Python-Syntax gesehen.\n",
    "Natürlich zeigen die Beispiele aber nur einen kleinen Auschnitt, die Sprache ist noch deutlich umfangreicher und viele Konzepte, wie z.B. Klassen und Module, haben wir noch nicht einmal angesprochen.\n",
    "\n",
    "Am besten Sie probieren Python einfach mal aus, indem Sie bestehende Beispiele übernehmen und verändern.\n",
    "Die Python Notebooks sind eine ideale Umgebung dafür.\n",
    "Sie können in den Code-Zellen Programmcode einfach ausprobieren.\n",
    "In den Markdown-Zellen können Sie sich Notizen machen, um Ihren Code zu dokumentieren oder ihre Schritte zu beschreiben."
   ]
  },
  {
   "cell_type": "markdown",
   "metadata": {},
   "source": [
    "## Aufgaben\n",
    "\n",
    "Auf den folgenden Notebooks wird es ggf. auch Aufgaben zur Eigneständigen Bearbeitung geben. Ihre Lösungen können Sie über das JupyterNotebook einreichen.\n",
    "\n",
    "Zum Testen der Abgaben kommt hier eine Mini Aufgabe:\n",
    "Implementieren Sie eine Python Funktion, die den String *Hello World* zurückliefert!"
   ]
  },
  {
   "cell_type": "code",
   "execution_count": null,
   "metadata": {
    "deletable": false,
    "nbgrader": {
     "cell_type": "code",
     "checksum": "0c8a6dd5845f6a008ed3ac98d1fd376d",
     "grade": false,
     "grade_id": "cell-9386ee03d73035d5",
     "locked": false,
     "schema_version": 3,
     "solution": true,
     "task": false
    }
   },
   "outputs": [],
   "source": [
    "# YOUR CODE HERE\n",
    "raise NotImplementedError()"
   ]
  },
  {
   "cell_type": "code",
   "execution_count": null,
   "metadata": {
    "deletable": false,
    "editable": false,
    "nbgrader": {
     "cell_type": "code",
     "checksum": "ebbd1bd81330f0e22e571bd3f085d495",
     "grade": true,
     "grade_id": "cell-6f798c39f9adb356",
     "locked": true,
     "points": 1,
     "schema_version": 3,
     "solution": false,
     "task": false
    }
   },
   "outputs": [],
   "source": [
    "assert hello()==\"Hello World\""
   ]
  }
 ],
 "metadata": {
  "kernelspec": {
   "display_name": "Python 3",
   "language": "python",
   "name": "python3"
  },
  "language_info": {
   "codemirror_mode": {
    "name": "ipython",
    "version": 3
   },
   "file_extension": ".py",
   "mimetype": "text/x-python",
   "name": "python",
   "nbconvert_exporter": "python",
   "pygments_lexer": "ipython3",
   "version": "3.7.3"
  }
 },
 "nbformat": 4,
 "nbformat_minor": 4
}
