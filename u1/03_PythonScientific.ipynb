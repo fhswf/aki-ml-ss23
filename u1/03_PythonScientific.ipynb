{
 "cells": [
  {
   "cell_type": "markdown",
   "id": "8775badd",
   "metadata": {},
   "source": [
    "<figure>\n",
    "  <IMG SRC=\"https://upload.wikimedia.org/wikipedia/commons/thumb/d/d5/Fachhochschule_Südwestfalen_20xx_logo.svg/320px-Fachhochschule_Südwestfalen_20xx_logo.svg.png\" WIDTH=250 ALIGN=\"right\">\n",
    "</figure>\n",
    "\n",
    "# Machine Learning\n",
    "### Sommersemester 2023\n",
    "Prof. Dr. Heiner Giefers"
   ]
  },
  {
   "cell_type": "markdown",
   "metadata": {},
   "source": [
    "# Wissenschaftliches Rechnen mit Numpy, Scipy und Matplotlib\n",
    "\n",
    "Python hat sich in den letzten Jahren als Standard-Programmiersprache in Bereichen des Wissenschaftlichen Rechnens und der Datenanalysen etabliert. Dies ist auch schon anhand der Vielzahl von Buchveröffentlichungen zu dem Thema zu erkennen (hier nur eine Auswahl).\n",
    "\n",
    "<p>\n",
    "\n",
    "<figure>\n",
    "  <IMG SRC=\"buecher.png\" WIDTH=600 ALIGN=\"left\">\n",
    "</figure>\n",
    "..."
   ]
  },
  {
   "cell_type": "markdown",
   "metadata": {},
   "source": [
    "Auf den ersten Blick erscheint der Einsatz von Python in diesem Bereich etwas unerwartet, denn ingenieursmäßige oder naturwissenschaftliche Anwendungen erfordern oft eine hohe Rechenleistung. Python, als interpretierte Programmiersprache ist in Punkto Performanz kompilierten Sprachen (wie etwa C/C++) normalerweise unterlegen. Mehrere Aspekte sprechen allerdings für den Einsatz von Skriptsprachen im wissenschaftlichen Rechnen:\n",
    "\n",
    "- Skriptsprachen erlauben häufig eine deutlich kompaktere und übersichtliche Programmstruktur. Bei Aufgaben, in denen es vor allem um eine korrekte und nachvollziehbare Implementierung eines algorithmischen Verfahrens geht, ist dies besonders wichtig.\n",
    "- Der Umfang an (frei verfügbaren) Bibliotheken und Paketen für Python ist enorm, was Entwicklern die Arbeit ungemein erleichtert. Außerdem ist der Einsatz von Drittanbieter-Software sehr einfach. Pakete sind direkt auf allen Plattformen lauffähig und müssen nicht, wie in kompilierten Programmiersprachen, zunächst in Maschinencode übersetzt werden.\n",
    "- Die laufzeitkritischen Elemente vieler Algorithmen lassen sich auf wenige Standardroutinen reduzieren. Für diese Routinen gibt es oft hoch-effiziente Implementationen, die sogar auf die speziellen Eigenschaften der vorliegen CPU optimiert werden. Sind solche Bibliotheken auf dem Computer verfügbar, so können sie von Python aus benutzt werden. Die rechenintensiven Teile eines Programms werden dann nicht mehr im Python Interpreter ausgeführt, sondern durch eine externe Bibliothek. Somit können die Performanz-Nachteile, die Python als interpretierte Sprache mitbringt, weitestgehend bereinigt werden.\n",
    "\n",
    "In der Vielzahl der verfügbaren Pakete für numerische Berechnungen mit Python gibt es einige Bibliotheken, die als quasi-Standard die Basis für viele Anwendungen und andere Pakete bilden:\n",
    "\n",
    "NumPy ist die elementare Python-Bibliothek für wissenschaftliches Rechnen. NumPy definiert Objekte für mehrdimensionale Arrays und Matrizen sowie mathematische Grundoperationen auf diesen Objekten. NumPy's \"Datentypen\" sind zwar eingeschränkter als die bekannten sequentiellen Typen in Python (list, tuple, etc.), dafür sind die Daten aber kompakter im Hauptspeicher abgelegt, so dass Operationen auf mehrdimensionalen Arrays effizienter durchgeführt werden können. Für Vektor- und Matrix-Operationen besitzt NumPy effiziente Implementierungen und benutzt, sofern auf dem Computer installiert, optimierte Bibliotheken für Lineare Algebra (BLAS und LAPACK)\n",
    "\n",
    "SciPy ist eine Bibliothek von Mathematischen Algorithmen die größtenteils auf NumPy aufbauen. SciPy ist sehr umfangreich und enthält unter anderem Module zur numerischen Berechnung von Integralen, zum Lösen von Differentialgleichungen, zur Berechnung von Optimierungsproblemen, zur digitalen Signalverarbeitung und zur Datenvisualisierung.\n",
    "\n",
    "Matplotlib ist die Standard-Bibliothek zum Erstellen von (mathematischen) Diagrammen. Sie Syntax von matplotlib orientiert sich an den Diagramm-Funktionen von Matlab was Entwicklern den Umstieg von dem kommerziellen Tool auf Python deutlich erleichtert.\n"
   ]
  },
  {
   "cell_type": "code",
   "execution_count": null,
   "metadata": {},
   "outputs": [],
   "source": [
    "import numpy as np\n",
    "import matplotlib as mpl\n",
    "import matplotlib.pyplot as plt\n",
    "%matplotlib inline\n",
    "#%matplotlib notebook"
   ]
  },
  {
   "cell_type": "markdown",
   "metadata": {},
   "source": [
    "Die obigen `import` Anweisungen sind _boilerplate code_, also ein Textbaustein, den Sie immer in gleicher Form verwenden, wenn Sie mit _numpy_ und _matplotlib_ arbeiten. Auch die Abkürzungen der Modulnamen haben sich in dieser Form etabliert.\n",
    "\n",
    "`%matplotlib` hingegen ist eine _magic function_ in ipython. Mit diesen Funktionen lassen sich generelle Einstellungen für die interaktive shell vornehmen. Mit dem Parameter `inline` stellt man ein, das die Grafiken im interaktiven Modus direkt unter dem Code dargestellt werden. Die Option `notebook` ist eine erweiterte Variante mit interaktiven Elementen für Python Notebooks."
   ]
  },
  {
   "cell_type": "markdown",
   "metadata": {},
   "source": [
    "## NumPy"
   ]
  },
  {
   "cell_type": "markdown",
   "metadata": {},
   "source": [
    "### Arrays\n",
    "\n",
    "Sie werden schnell feststellen, dass Arrays, bzw. Matrizen bei Algorithmen für das Maschinelle Lernen allgegenwärtig sind.\n",
    "In NumPy werden n-dimensionale Arrays den Datentyp `ndarray` abgebildet. Wenn die NumPy-Bibliothek mittels `import numpy as np` eingebunden haben, können Sie ein NumPy Array mit der Funktion `np.array()` anlegen:"
   ]
  },
  {
   "cell_type": "code",
   "execution_count": null,
   "metadata": {},
   "outputs": [],
   "source": [
    "x = np.array([1,2,3])\n",
    "print(x, type(x))"
   ]
  },
  {
   "cell_type": "markdown",
   "metadata": {},
   "source": [
    "Es gibt auch den Datentyp `matrix` in NumPy. Dieser Typ ist von `ndarray` abgeleiteten.\n",
    "Matrizen haben immer 2-dimensionale Struktur und Operatoren funktionieren etwas anders als bei \"normalen\" NumPy Arrays.\n",
    "Um Missverständnisse zu vermeiden, werden wir im folgenden vornehmlich den Typ `ndarray` benutzen."
   ]
  },
  {
   "cell_type": "markdown",
   "metadata": {},
   "source": [
    "Ein `ndarray` kann aus Folgen von Zahlen gebildet werden. Dies sind üblicherweise Tupel oder Listen. Die Dokumentation zur Funktion `array` sagt, dass ein *Array-artiger* Parameter übergeben werden soll. Es ist also so, dass alle Objekte, *die NumPy zu einem Array konvertieren kann*, an dieser Stelle Funktionieren:"
   ]
  },
  {
   "cell_type": "code",
   "execution_count": null,
   "metadata": {},
   "outputs": [],
   "source": [
    "a = np.array([1, 7, 1, 2])\n",
    "b = np.array((1, 7, 1, 2))\n",
    "print(\"a: %s\" % a)\n",
    "print(\"b: %s\" % b)"
   ]
  },
  {
   "cell_type": "markdown",
   "metadata": {},
   "source": [
    "Auf einzelne Elemente von eindimensionalen Arrays greift man über einen \"einfachen\" Index in `[]`-Klammern zu.\n",
    "Bei mehrdimensionalen Arrays werden die Zugriffe etwas komplizierter."
   ]
  },
  {
   "cell_type": "code",
   "execution_count": null,
   "metadata": {},
   "outputs": [],
   "source": [
    "b[2]"
   ]
  },
  {
   "cell_type": "markdown",
   "metadata": {},
   "source": [
    "NumPy liefert auch einige Funktionen, um spezielle Arrays zu erzeugen. Über `arange` können z.B. Arrays über Zahlenfolgen gebildet werden:"
   ]
  },
  {
   "cell_type": "code",
   "execution_count": null,
   "metadata": {},
   "outputs": [],
   "source": [
    "a = np.arange(8)\n",
    "a"
   ]
  },
  {
   "cell_type": "markdown",
   "metadata": {},
   "source": [
    "Die Länge eines Arrays erhält man über das Attribut `size`:\n"
   ]
  },
  {
   "cell_type": "code",
   "execution_count": null,
   "metadata": {},
   "outputs": [],
   "source": [
    "a.size"
   ]
  },
  {
   "cell_type": "markdown",
   "metadata": {},
   "source": [
    "Die Dimension wiederum, kann man mit dem Attribut `ndim` abfragen. Eindimensionalen Arrays haben die Dimension 1. Wir werden diese Arrays von nun an auch **Vektoren** nennen. Für zweidimensionale Arrays verwenden wir auch den Begriff **Matrix**."
   ]
  },
  {
   "cell_type": "code",
   "execution_count": null,
   "metadata": {},
   "outputs": [],
   "source": [
    "a.ndim"
   ]
  },
  {
   "cell_type": "markdown",
   "metadata": {},
   "source": [
    "Als eine Art Kombination der Attribute `size` und `ndim` kann man `shape` verstehen.\n",
    "Dieses Attribut liefert ein Tupel mit `ndim`-Elementen zurück, wobei das $i$-te Element die Größe der $i$-ten Dimension angibt. (Vielleicht fragen Sie sich, warum in dem Tupel `(8,)` das einzelne Komma steht? Das ist dazu da, die Schriftweise eindeutig zu halten. Ansonsten könnte man die Ausgabe mit einem `int` in Klammern verwechseln.)"
   ]
  },
  {
   "cell_type": "code",
   "execution_count": null,
   "metadata": {},
   "outputs": [],
   "source": [
    "a.shape"
   ]
  },
  {
   "cell_type": "markdown",
   "metadata": {},
   "source": [
    "Die Indizierung von NumPy Arrays beginnt immer bei der $0$.\n",
    "Neben der Adressierung von konkreten Indizes gibt es noch weitere Zugriffsregeln:"
   ]
  },
  {
   "cell_type": "code",
   "execution_count": null,
   "metadata": {},
   "outputs": [],
   "source": [
    "print(a[0])     # Das erste Element\n",
    "print(a[-1])    # Das letzte Element\n",
    "print(a[2:7])   # Die Elemente von Index 2 bis 7 (ausschließlich)\n",
    "print(a[2:7:2]) # Wie oben, nur mit einer Schrittweite von 2\n",
    "print(a[::3])   # Alle Elemente mit einer Schrittweite von 3"
   ]
  },
  {
   "cell_type": "markdown",
   "metadata": {},
   "source": [
    "### Mehrdimensionale Arrays\n",
    "\n",
    "Wie schon angesprochen, ist `ndarray` ein mehrdimensionaler Datentyp. Sie können also ohne Weiteres NumPy Arrays aus verschachtelten Listen oder Array erzeugen:"
   ]
  },
  {
   "cell_type": "code",
   "execution_count": null,
   "metadata": {},
   "outputs": [],
   "source": [
    "a = np.arange(6)\n",
    "b = np.arange(6,12)\n",
    "c = np.arange(12,18)\n",
    "d = np.arange(18,24)\n",
    "A = np.array((a,b,c,d))\n",
    "A"
   ]
  },
  {
   "cell_type": "markdown",
   "metadata": {},
   "source": [
    "Dabei müssen aber immer alle niedrigeren Dimensionen voll besetzt sein, damit `np.array` ein \"echtes\" Array generieren kann:"
   ]
  },
  {
   "cell_type": "code",
   "execution_count": null,
   "metadata": {},
   "outputs": [],
   "source": [
    "A = np.array([[ 0,  1,  2,  3,  4,  5],\n",
    "       [ 6,  7,  8,  9, 10, 11],\n",
    "       [12, 13, 14, 15, 16, 17],\n",
    "       [18, 19, 20, 21, 22, 23]])\n",
    "A"
   ]
  },
  {
   "cell_type": "markdown",
   "metadata": {},
   "source": [
    "Passen die Größen der einzelnen Vektoren oder Matrizen nicht zusammen, so liefert die Funktion ein vermutlich ungewolltes Resultat. Im folgenden Beispiel, hat die 3. Zeile der Matrix nur 2 Elemente, und nicht 6 wie alle anderen. `np.array` legt daher ein eindimensionales Array mit Listen als Elemente an: "
   ]
  },
  {
   "cell_type": "code",
   "execution_count": null,
   "metadata": {},
   "outputs": [],
   "source": [
    "B = np.array([[ 0,  1,  2,  3,  4,  5],\n",
    "       [ 6,  7,  8,  9, 10, 11],\n",
    "       [12, 13],\n",
    "       [18, 19, 20, 21, 22, 23]])\n",
    "B"
   ]
  },
  {
   "cell_type": "markdown",
   "metadata": {},
   "source": [
    "Einzelne Elemente eines mehrdimensionalen `ndarrays` adressieren Sie mit einer Folge von Index-Klammern. `A[3][1]` z.B. liefert das zweite Element der vierten Zeile der Matrix."
   ]
  },
  {
   "cell_type": "code",
   "execution_count": null,
   "metadata": {},
   "outputs": [],
   "source": [
    "A[3][1]"
   ]
  },
  {
   "cell_type": "markdown",
   "metadata": {},
   "source": [
    "Etwas komplizierter wird es, wenn wir nicht nur auf einzelne Werte, sondern ganze Bereiche einer Matrix zugreifen wollen.\n",
    "Mit `[x:y]` greift man auf die Zeilen $X$ bis einschließlich $y-1$ zu. Der $x$-Wert kann auch weg gelassen werden, `[:2]` liefert z.B. die ersten 2 Zeilen der Matrix"
   ]
  },
  {
   "cell_type": "code",
   "execution_count": null,
   "metadata": {},
   "outputs": [],
   "source": [
    "print(A[:3])"
   ]
  },
  {
   "cell_type": "code",
   "execution_count": null,
   "metadata": {},
   "outputs": [],
   "source": [
    "print(A[1:3])"
   ]
  },
  {
   "cell_type": "markdown",
   "metadata": {},
   "source": [
    "Auf einzelne Spalten der Matrix greift man über den Komma-Operator:"
   ]
  },
  {
   "cell_type": "code",
   "execution_count": null,
   "metadata": {},
   "outputs": [],
   "source": [
    "print(A[:,3])"
   ]
  },
  {
   "cell_type": "markdown",
   "metadata": {},
   "source": [
    "Das ist in etwa so zu verstehen, dass das Komma die einzelnen Dimensionen voneinander abgrenzt.\n",
    "Man nimmt also von der ersten Dimension alle Elemente (angegeben durch das Fehlen vonj Grenzen bei dem `:`-Operator) und von der zweiten Dimension nur die \"dritten\".\n",
    "Das folgende Beispiel liefert von den Elementen der dritten Zeile die Elemente im Bereich der zweiten bis dritten Spalte."
   ]
  },
  {
   "cell_type": "code",
   "execution_count": null,
   "metadata": {},
   "outputs": [],
   "source": [
    "print(A[2,1:3])"
   ]
  },
  {
   "cell_type": "markdown",
   "metadata": {},
   "source": [
    "### Arrays Anlegen"
   ]
  },
  {
   "cell_type": "markdown",
   "metadata": {},
   "source": [
    "Wir haben bereits gesehen, wie man NumPy Arrays mit den Funktionen `array` und `arange` anlegen kann.\n",
    "Es gibt aber noch weitere Methoden, mit denen Arrays angelegt werden können.\n",
    "So kann man z.B. Arrays generieren, die nur aus Nullen oder Einsen bestehen"
   ]
  },
  {
   "cell_type": "code",
   "execution_count": null,
   "metadata": {},
   "outputs": [],
   "source": [
    "np.zeros(9)"
   ]
  },
  {
   "cell_type": "code",
   "execution_count": null,
   "metadata": {},
   "outputs": [],
   "source": [
    "np.ones((4,4))"
   ]
  },
  {
   "cell_type": "markdown",
   "metadata": {},
   "source": [
    "Die Methode `linspace(Start, Ende, Anzahl-Werte)` ist eine Erweiterung von `arange` mit der fortlaufende Folgen von Zahlen generiert werden können. Die Funktion liefert `Anzahl-Werte` Zahlen im Bereich `[Start,Ende]`."
   ]
  },
  {
   "cell_type": "code",
   "execution_count": null,
   "metadata": {},
   "outputs": [],
   "source": [
    "x = np.linspace(-1,1,20)\n",
    "x"
   ]
  },
  {
   "cell_type": "markdown",
   "metadata": {},
   "source": [
    "Die Werte steigen bei `linspace` linear an. Falls Sie eine logarithmische Skalierung benötigen, können Sie die Funktion `logspace` verwenden. Dabei ist darauf zu achten, dass `Start` und `Ende` als Exponenten angenommen werden. `np.logspace(0,2,20)` etwa, generiert 20 Werte im Bereich 1 (10 hoch 0) bis 100 (10 hoch 2)."
   ]
  },
  {
   "cell_type": "code",
   "execution_count": null,
   "metadata": {},
   "outputs": [],
   "source": [
    "start = 0 # 10^0 = 1\n",
    "ende = 2 # 10^2 = 100\n",
    "n = 20\n",
    "\n",
    "np.logspace(0,2,20)"
   ]
  },
  {
   "cell_type": "markdown",
   "metadata": {},
   "source": [
    "Wir haben gesehen, wie wir eindimensionale Arrays generieren können.\n",
    "Oftmals benötigt man aber mehrdimensionale Arrays.\n",
    "NumPy stellt einige Methoden bereit, um die Struktur von Arrays zu verändern.\n",
    "Die Daten selbst, bleiben von diesen Operationen unverändert.\n",
    "\n",
    "Die wichtigsten Funktionen zum Umstrukturieren von Matrizen sind `reshape` und `flatten`."
   ]
  },
  {
   "cell_type": "code",
   "execution_count": null,
   "metadata": {},
   "outputs": [],
   "source": [
    "a = np.arange(20)\n",
    "b = a.reshape((4,5))\n",
    "print(\"b als 4x5 Matrix:\\n\", b)\n",
    "b = b.reshape((5,4))\n",
    "print(\"\\nb als 5x4 Matrix:\\n\", b)"
   ]
  },
  {
   "cell_type": "markdown",
   "metadata": {},
   "source": [
    "Eine Wichtige Operation in der Linearen Algebra ist das Transponieren von Matrizen. Dabei werden die Spalten und Zeilen der Matrix vertauscht. Die Werte in der Matrix bleiben gleich, werden aber in einer umgedrehten Rehenfolge durchlaufen.\n",
    "In NumPy greift man auf die Transponierte Form eines Arrays über das Attribut `T` zu."
   ]
  },
  {
   "cell_type": "code",
   "execution_count": null,
   "metadata": {},
   "outputs": [],
   "source": [
    "b.T"
   ]
  },
  {
   "cell_type": "markdown",
   "metadata": {},
   "source": [
    "Das Umstrukturieren und Transponieren funktioniert auch bei Arrays mit einer Dimension >2 "
   ]
  },
  {
   "cell_type": "code",
   "execution_count": null,
   "metadata": {},
   "outputs": [],
   "source": [
    "a = np.arange(24).reshape((2,3,4))\n",
    "a"
   ]
  },
  {
   "cell_type": "code",
   "execution_count": null,
   "metadata": {},
   "outputs": [],
   "source": [
    "a = a.T\n",
    "a"
   ]
  },
  {
   "cell_type": "markdown",
   "metadata": {},
   "source": [
    "Mit der Methode `flatten` kann man mehrdimensionale Arrys linearisieren."
   ]
  },
  {
   "cell_type": "code",
   "execution_count": null,
   "metadata": {},
   "outputs": [],
   "source": [
    "a.flatten()"
   ]
  },
  {
   "cell_type": "markdown",
   "metadata": {},
   "source": [
    "### Zufallszahlen"
   ]
  },
  {
   "cell_type": "markdown",
   "metadata": {},
   "source": [
    "Zufallszahlen und die Erzeugung von bestimmten Wahrscheinlichkeitsverteilungen ist an vielen Stellen der Mathematik wichtig.\n",
    "Das *Modul* `np.random` liefert Methoden um Zufallswerte und -verteilungen zu generieren.\n",
    "\n",
    "Wie es Ihnen vielleicht aus Sprachen wie C oder Java geläufig ist, köönen Sie auch in Python vor Benutzung des Zufallszahlengenerators mit einem Ausgangswert, dem sogenannten *seed*, initialisieren. Der Zufallszahlengenerator selbst ist  *deterministisch*, d.h., er erzeugt zu einem seed immer die gleiche Folge von Zufallszahlen."
   ]
  },
  {
   "cell_type": "code",
   "execution_count": null,
   "metadata": {},
   "outputs": [],
   "source": [
    "np.random.seed(seed=1)\n",
    "np.random.random(4)"
   ]
  },
  {
   "cell_type": "code",
   "execution_count": null,
   "metadata": {},
   "outputs": [],
   "source": [
    "np.random.random(5)"
   ]
  },
  {
   "cell_type": "code",
   "execution_count": null,
   "metadata": {},
   "outputs": [],
   "source": [
    "np.random.seed(seed=1)\n",
    "np.random.random(5)"
   ]
  },
  {
   "cell_type": "markdown",
   "metadata": {},
   "source": [
    "`random` liefert gleichverteilte Werte im Bereich `[0,1[`.\n",
    "Wenn Sie normalverteilte (also nach der Gaußschen Normalverteilung verteilte) Werte benötigen, können Sie die Funktion `np.random.normal(loc, scale, size)` verwenden. Der Parameter `loc` bezeichnet den Erwartungswert und `scale` die Standardabweichung. Mit `size` können Sie die Anzahl der zu generierenden Werte angeben."
   ]
  },
  {
   "cell_type": "code",
   "execution_count": null,
   "metadata": {},
   "outputs": [],
   "source": [
    "np.random.normal(0.0, 4.0, 10)"
   ]
  },
  {
   "cell_type": "markdown",
   "metadata": {},
   "source": [
    "Über ihre Namen, können Sie in Python auch nur einzelne Parameter angeben. Z.B. funktioniert auch der folgende Aufruf, in dem wir nur die Anzahl der Zahlen in der Funktion `normal` angeben. Für die Standardabweichung und die Varianz werden dann Default-Werte angenommen (0 bzw. 1)."
   ]
  },
  {
   "cell_type": "code",
   "execution_count": null,
   "metadata": {},
   "outputs": [],
   "source": [
    "np.random.normal(size=20)"
   ]
  },
  {
   "cell_type": "markdown",
   "metadata": {},
   "source": [
    "NumPy bietet auch einige elementare statistische Funktionen, z.B. für den Mittelwert (`mean`) oder die Standardabweichung (`std`)."
   ]
  },
  {
   "cell_type": "code",
   "execution_count": null,
   "metadata": {},
   "outputs": [],
   "source": [
    "a = np.random.normal(3,7,10000)\n",
    "print(\"Erwartungswert: \", a.mean())\n",
    "print(\"Standardabweichung: \", a.std())"
   ]
  },
  {
   "cell_type": "markdown",
   "metadata": {},
   "source": [
    "## Operationen\n",
    "\n",
    "Wir haben nun sehr ausführlich betrachtet, wie man Arrays anlegt und mit Werten füllen kann.\n",
    "Was wir bisher ausgelassen haben ist, wie man Operationen mit und auf NumPy Arrays durchführt.\n",
    "Dies wollen wir nun nachholen.\n",
    "\n",
    "Wenn man mit Vektoren und Matrizen rechnet, unterscheidet man Skalar- und Matrix-Operationen.\n",
    "Eine Skalar-Addition mit einem Vektor führt z.B. zu folgendem Resultat:"
   ]
  },
  {
   "cell_type": "code",
   "execution_count": null,
   "metadata": {},
   "outputs": [],
   "source": [
    "np.arange(8) + 10"
   ]
  },
  {
   "cell_type": "markdown",
   "metadata": {},
   "source": [
    "Addieren wir 2 Vektoren, so werden alle Werte an ihrer jeweiligen Stelle miteinander addiert."
   ]
  },
  {
   "cell_type": "code",
   "execution_count": null,
   "metadata": {},
   "outputs": [],
   "source": [
    "np.arange(8) + np.arange(8)"
   ]
  },
  {
   "cell_type": "markdown",
   "metadata": {},
   "source": [
    "Gleiches gilt für die Multiplikation"
   ]
  },
  {
   "cell_type": "code",
   "execution_count": null,
   "metadata": {},
   "outputs": [],
   "source": [
    "np.arange(10) * 5"
   ]
  },
  {
   "cell_type": "code",
   "execution_count": null,
   "metadata": {},
   "outputs": [],
   "source": [
    "np.arange(8) * np.arange(8)"
   ]
  },
  {
   "cell_type": "markdown",
   "metadata": {},
   "source": [
    "Arrays kann man auch mit Skalaren und Arrays vergleichen"
   ]
  },
  {
   "cell_type": "code",
   "execution_count": null,
   "metadata": {},
   "outputs": [],
   "source": [
    "np.arange(8) > 2"
   ]
  },
  {
   "cell_type": "code",
   "execution_count": null,
   "metadata": {},
   "outputs": [],
   "source": [
    "np.arange(8) == (np.arange(8) *2)"
   ]
  },
  {
   "cell_type": "markdown",
   "metadata": {},
   "source": [
    "Das Skalarprodukt (auch inneres Produkt genannt) ist eine eigene Form der Multiplikation zweier Vektoren. Dabei wird die Summe der Produkte aller Komponenten der beiden Vektoren."
   ]
  },
  {
   "cell_type": "code",
   "execution_count": null,
   "metadata": {},
   "outputs": [],
   "source": [
    "a = np.arange(5)\n",
    "print(\"a: \", a)\n",
    "b = np.arange(5)*2\n",
    "print(\"b: \", b)\n",
    "c=a*b\n",
    "print(\"c = a*b: \", c)\n",
    "d=a.dot(b)\n",
    "print(\"d = a.b: \", d)"
   ]
  },
  {
   "cell_type": "markdown",
   "metadata": {},
   "source": [
    "Die Summe aller Elemente eines Arrays bilden Sie mit der Funktion `sum`."
   ]
  },
  {
   "cell_type": "code",
   "execution_count": null,
   "metadata": {},
   "outputs": [],
   "source": [
    "np.arange(8).sum()"
   ]
  },
  {
   "cell_type": "markdown",
   "metadata": {},
   "source": [
    "Darüberhinaus gibt es noch Operationen für Matrizen"
   ]
  },
  {
   "cell_type": "code",
   "execution_count": null,
   "metadata": {},
   "outputs": [],
   "source": [
    "A = np.arange(20).reshape((4,5))\n",
    "B = np.arange(20).reshape((4,5))\n",
    "print(\"A+B:\\n\", A+B)\n",
    "print(\"A∘B:\\n\", A*B)"
   ]
  },
  {
   "cell_type": "markdown",
   "metadata": {},
   "source": [
    "Beachten Sie, dass die Multiplikation mit dem `*`-Operator die elementweise Multiplikation ist. Diese Operation wird auch Hadamard-Produkt oder Schur-Produkt genannt. Bei der elementweisen Multiplikation müssen beide Matrizen dieselbe Struktur besitzen.\n",
    "\n",
    "Unter einer Matrixmultiplikation versteht man eine andere Operation. Zwei Matrizen $A$ und $B$ werden miteinander multipliziert, indem man sämtliche Skalarprodukte der Zeilenvektoren von $A$ mit den Spaltenvektoren von $B$ bildet.\n",
    "Die Spaltenzahl von $A$ muss daher mit der Zeilenzahl von $B$ übereinstimmen."
   ]
  },
  {
   "cell_type": "code",
   "execution_count": null,
   "metadata": {},
   "outputs": [],
   "source": [
    "A = np.arange(20).reshape((4,5))\n",
    "B = np.arange(20).reshape((5,4))\n",
    "print(\"A⋅B:\\n\", A@B)"
   ]
  },
  {
   "cell_type": "markdown",
   "metadata": {},
   "source": [
    "### Warum ist NumPy effizient"
   ]
  },
  {
   "cell_type": "markdown",
   "metadata": {},
   "source": [
    "Im folgenden wollen wir kurz analysieren, warum NumPy-Datentypen für Operationen auf großen Datensätzen besser geeignet sind, als die eingebauten Typen von Python.\n",
    "Wir Vergleichen hier 2 Vektoren $X$ und $Y$: $X$ wird dabei als NumPy Array erzeugt, $Y$ ist ein reguläres Tupel-Objekt. Die Daten/Werte in $X$ und $Y$ sind aber gleich."
   ]
  },
  {
   "cell_type": "code",
   "execution_count": null,
   "metadata": {},
   "outputs": [],
   "source": [
    "import math\n",
    "N = 1000000\n",
    "# X ist ein NumPy Array\n",
    "X = np.linspace(0,N-1,num=N)/N\n",
    "# Y Ist ein Tupel\n",
    "Y = tuple(y/N for y in range(0,N))\n",
    "print(sum(X-Y)) # X und Y sind 'gleich'"
   ]
  },
  {
   "cell_type": "markdown",
   "metadata": {},
   "source": [
    "Dass die unterschiedlichen Datentypen (im Beisiel, Tupel und NumPy Array) sehr unterschiedliche Speicherbedarfe haben, ist nicht ganz leicht nachzuprüfen. Zwar besitzt das Modul sys die Funktion getsizeof, welche auf beliebeige Objekte angewendet werden kann. Wenn man aber getsizeof auf ein Objekt eines Sequentiellen Datentyps anwendet, so werden nur die enthaltenen Objektreferenzen in die Berechnung der Größe miteinbezogen; nicht die referenzierte Objekte selbst. Die folgende Funktion deep_getsizeof analysiert die Größe eines Objekts und exploriert dabei alle enthaltenen Objekte in rekursiever Weise. Damit erhält man den \"echten\" Speicherbedarf eines Objektes."
   ]
  },
  {
   "cell_type": "code",
   "execution_count": null,
   "metadata": {},
   "outputs": [],
   "source": [
    "from sys import getsizeof\n",
    "from collections.abc import Mapping, Container\n",
    "def deep_getsizeof(o, ids=None):\n",
    "    if not ids:\n",
    "        ids = set()\n",
    "                   \n",
    "    d = deep_getsizeof\n",
    "    if id(o) in ids:\n",
    "        return 0\n",
    "\n",
    "    r = getsizeof(o)\n",
    "    ids.add(id(o))\n",
    "\n",
    "    if isinstance(o, str) or isinstance(0, str):\n",
    "        return r\n",
    "\n",
    "    if isinstance(o, Mapping):\n",
    "        return r + sum(d(k, ids) + d(v, ids) for k, v in o.iteritems())\n",
    "\n",
    "    if isinstance(o, Container):\n",
    "        return r + sum(d(x, ids) for x in o)\n",
    "\n",
    "    return r"
   ]
  },
  {
   "cell_type": "code",
   "execution_count": null,
   "metadata": {},
   "outputs": [],
   "source": [
    "sX = deep_getsizeof(X)\n",
    "sY = deep_getsizeof(Y)\n",
    "print(\"NumPy Array X ist %d kByte groß.\" % (sX/1024))\n",
    "print(\"Tupel Y ist %d kByte groß.\" % (sY/1024))"
   ]
  },
  {
   "cell_type": "markdown",
   "metadata": {},
   "source": [
    "## Matplotlib"
   ]
  },
  {
   "cell_type": "markdown",
   "metadata": {},
   "source": [
    "Mit der Matplotlib Bibliothek können in Python mit recht einfachen Mitteln gutaussehende Grafiken erstellt werden.\n",
    "Der Funktionsumfang der Bibliothek ist sehr groß, daher werden wir Sie hier nur anhand einiger Beispiele vorstellen.\n",
    "Für die Darstellung spezieller Graphen gibt es viele Beispiele in der [Matplotlib Glerie](https://matplotlib.org/gallery/index.html).\n",
    "\n",
    "Denken Sie daran, zuerst die Bibliotheksfunktionen einzubindnen."
   ]
  },
  {
   "cell_type": "code",
   "execution_count": null,
   "metadata": {},
   "outputs": [],
   "source": [
    "import matplotlib as mpl\n",
    "import matplotlib.pyplot as plt\n",
    "%matplotlib inline"
   ]
  },
  {
   "cell_type": "markdown",
   "metadata": {},
   "source": [
    "Um eine Mathematische Funktion darzustellen, können Sie die [`plot`-Funktion](https://matplotlib.org/api/_as_gen/matplotlib.pyplot.plot.html) verwenden.\n"
   ]
  },
  {
   "cell_type": "code",
   "execution_count": null,
   "metadata": {},
   "outputs": [],
   "source": [
    "x = np.linspace(-120,120)\n",
    "y1 = x*x\n",
    "y2 = 0.5*x*x\n",
    "plt.plot(x, y1)\n",
    "plt.plot(x, y2, '.')\n",
    "plt.xlabel('x')\n",
    "plt.ylabel('y')\n",
    "plt.show()"
   ]
  },
  {
   "cell_type": "markdown",
   "metadata": {},
   "source": [
    "Die folgende Code-Zelle zeigt ein einfaches Beispiel, in dem eine Sinus- und eine Cosinus-Funktion mittels NumPy erzeugt und die Graphen der Funktionen mit dem Modul pyplot aus dem Paket matplotlib dargestellt werden. (Falls Sie das Paket ipywidgets nicht installiert haben, funktioniert das folgende Beispiel evt. nicht korrekt. Das ist nicht weiter schlimm, ihnen Fehlt in diesem Fall nur das aktive Element, mit dem Sie den Parameter `c` verändern können.)"
   ]
  },
  {
   "cell_type": "code",
   "execution_count": null,
   "metadata": {},
   "outputs": [],
   "source": [
    "from ipywidgets import interact\n",
    "def f(c):\n",
    "    x = np.linspace(0,2*np.pi)\n",
    "    fig = plt.figure()\n",
    "    plt.plot(x,np.sin(c*x),label=\"Sinus\")\n",
    "    plt.plot(x,np.cos(x),label=\"Cosinus\")\n",
    "    l_sine, l_cos = plt.gca().lines\n",
    "    l_cos.set_linewidth(10)\n",
    "    plt.legend(loc='lower left')\n",
    "    plt.show()\n",
    "interact(f, c=1.0);"
   ]
  },
  {
   "cell_type": "markdown",
   "metadata": {},
   "source": [
    "Matplotlib kann nicht nur Funktionsgraphen zeichnen, sondern bietet eine Fülle von verschiedenen Diagrammtypen. Eine gute Übersicht finden Sie [hier](https://matplotlib.org/gallery.html). Im folgenden Beispiel benutzen wir ein Histogramm um die Verteilung einer Zufallsvariablen darzustellen. Mit dem NumPy Modul _random_ generieren wir uns einen Vektor mit 20000 Einträgen auf Basis der Normal-Verteilung (auch Gauß-Verteilung genannt). Ein Histogramm ist ein Säulendiagramm, das darstellt, wie viele Elemente in einen bestimmten Wertebereich fallen. Der Parameter `bins` gibt an, in wie viele Bereiche die Darstellung aufgeteilt werden soll. Im Beispiel wollen wir also ein Sälendiagramm mit 200 Säulen zeichnen. Man erkennt im Diagramm die typische _Glockenkurve_ mit dem Erwartungswert (hier: 0) in der \"Mitte\"."
   ]
  },
  {
   "cell_type": "code",
   "execution_count": null,
   "metadata": {},
   "outputs": [],
   "source": [
    "fig = plt.figure()\n",
    "N = 20000\n",
    "W = np.random.standard_normal(size=N)\n",
    "plt.hist(W,bins=(N//100))\n",
    "plt.show()"
   ]
  },
  {
   "cell_type": "markdown",
   "metadata": {},
   "source": [
    "Wir hatten bereits angesprochen, dass Zufallszahlen in vielen Bereichen des wissenschaftlichen Rechnens und der angewandten Mathematik (z.B. in der Finanzmathematik) wichtig sind. Häufig geht es darum, komplexe Prozesse zu simulieren, deren Ausgang von Wahrscheinlichkeiten abhängt.\n",
    "Im nächsten Beispiel, generieren wir wieder Folgen von (normalverteilten) Zufallszahlen. Auf dieser Folge berechnen wir dann mit `numpy.cumsum` die kumulierte Summe (auch [Präfixsumme](https://de.wikipedia.org/wiki/Präfixsumme) genannt). Das bedeutet, wir berechnen für jede Position in der Folge die Summe aller Folgenglieder bis zu dieser Position. Dazu addieren wir noch einen Startwert. Da der Erwartungswert der Normalverteilung Null ist und die einzelnen Elemente der Folge unabhängig sind, ist auch der Erwartungswert der Summe gleich Null.\n",
    "Wir sehen aber im Beispiel, dass sich einige der Zufallsprozesse extremer in positive oder negative Richtung entwickeln."
   ]
  },
  {
   "cell_type": "code",
   "execution_count": null,
   "metadata": {},
   "outputs": [],
   "source": [
    "fig = plt.figure()\n",
    "N = 100\n",
    "Startwert=10\n",
    "Runden=100\n",
    "Mittelwert=0\n",
    "for i in range(0,Runden):\n",
    "    X = np.random.standard_normal(size=N)\n",
    "    X = np.cumsum(X)+Startwert\n",
    "    plt.plot(X)\n",
    "    Mittelwert += np.average(X)\n",
    "Mittelwert /= Runden\n",
    "plt.show()\n",
    "Mittelwert"
   ]
  },
  {
   "cell_type": "markdown",
   "metadata": {},
   "source": [
    "Das Paket **SciPy** liefert eine Reihe weiterer mathematischer Funktionen, die über den Umfang von NumPy hinaus gehen.\n",
    "Ein relativ einfaches Beispiel ist das Ableiten von Funktionen mit der Methode `derivative` aus dem Module `scipy.misc`. Im Beispiel erzeugen wir eine Kubische Funktion $f(x)=x^3+x^2$ und stellen sie dann, zusammen mit ihrer ersten und zweiten Ableitung' mit der _matplotlib_ dar."
   ]
  },
  {
   "cell_type": "code",
   "execution_count": null,
   "metadata": {},
   "outputs": [],
   "source": [
    "from scipy.misc import derivative\n",
    "def f(x):\n",
    "    return x**3 + x**2\n",
    "\n",
    "fig = plt.figure()\n",
    "X = np.linspace(-3,3)\n",
    "plt.plot(X,f(X),label=\"f\",lw=3)\n",
    "plt.plot(X,derivative(f,X),label=\"f'\")\n",
    "plt.plot(X,derivative(f,X,n=2),label=\"f''\")\n",
    "plt.legend(loc='best',fontsize='large')\n",
    "plt.show()"
   ]
  }
 ],
 "metadata": {
  "kernelspec": {
   "display_name": "Python 3",
   "language": "python",
   "name": "python3"
  },
  "language_info": {
   "codemirror_mode": {
    "name": "ipython",
    "version": 3
   },
   "file_extension": ".py",
   "mimetype": "text/x-python",
   "name": "python",
   "nbconvert_exporter": "python",
   "pygments_lexer": "ipython3",
   "version": "3.7.6"
  }
 },
 "nbformat": 4,
 "nbformat_minor": 4
}
