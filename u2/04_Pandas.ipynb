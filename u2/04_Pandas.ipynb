{
 "cells": [
  {
   "cell_type": "markdown",
   "id": "4cced19c",
   "metadata": {},
   "source": [
    "<figure>\n",
    "  <IMG SRC=\"https://upload.wikimedia.org/wikipedia/commons/thumb/d/d5/Fachhochschule_Südwestfalen_20xx_logo.svg/320px-Fachhochschule_Südwestfalen_20xx_logo.svg.png\" WIDTH=250 ALIGN=\"right\">\n",
    "</figure>\n",
    "\n",
    "# Machine Learning\n",
    "### Sommersemester 2023\n",
    "Prof. Dr. Heiner Giefers"
   ]
  },
  {
   "cell_type": "markdown",
   "metadata": {},
   "source": [
    "# Pandas\n",
    "Mit Beispielen von A. Geron [https://github.com/ageron/handson-ml]"
   ]
  },
  {
   "cell_type": "markdown",
   "metadata": {},
   "source": [
    "Pandas (*Python Data Analysis Library*) ist eine Python-Bibliothek zum Speichern, Manipulieren und Auswerten tabellarischer Daten. Die wichtigsten Datenstrukturen in Pandas sind `Series` und `DataFrame`. \n",
    "\n",
    "Eine `Series` ist eine Art Vektor (oder eindimensionale Liste) zum Speichern von Zeitreihen. Ein `Dataframe` ist eine zweidimensionale Tabelle bestehend aus Zeilen und Spalten. Daneben gibt es noch die dreidimensionale Datenstruktur `Panel`, die eine Reihe von Dataframe-Objekten beschreibt.\n",
    "\n",
    "Pandas unterstützt viele Funktionen, die aus Tabellenkalkulationen und Relationalen Datenbanken bekannt sind. Man kann Daten Selektieren, neue Spalten berechnen oder Daten als Graphen darstellen. Außerdem bietet die Bibliothek umfangreiche Funktionen zum Importtieren und Exportieren verschiedener Tabellen-Formate (CSV, Excel, HDF, SQL, JSON, HTML, ...). "
   ]
  },
  {
   "cell_type": "markdown",
   "metadata": {},
   "source": [
    "Normalerweise wird `pandas` über den Namensraum `pd` importiert."
   ]
  },
  {
   "cell_type": "code",
   "execution_count": null,
   "metadata": {},
   "outputs": [],
   "source": [
    "import pandas as pd"
   ]
  },
  {
   "cell_type": "markdown",
   "metadata": {},
   "source": [
    "## Reihen mit `Series`\n",
    "\n",
    "Ein `Series`-Objekt wird aus einer eindimensionalen Struktur erzeugt und kann verschiedene Daten-Typen (`int`, `double`, `str`, oder andere Objekte) aufnehmen.\n",
    "Eine `Series` besteht immer aus Index-Wert Paaren, die Indizes nennt man auch *Label*."
   ]
  },
  {
   "cell_type": "code",
   "execution_count": null,
   "metadata": {},
   "outputs": [],
   "source": [
    "s = pd.Series([2,-1,3,5])\n",
    "print(s)"
   ]
  },
  {
   "cell_type": "markdown",
   "metadata": {},
   "source": [
    "Die Daten in einem `Series`-Objekte sind alle vom gleichen Typ.\n",
    "Wenn wir die Reihe `s` wie oben mit einem `double`-Element anlegen, so wird dieser, allgemeinere Typ für alle Elemente gewählt."
   ]
  },
  {
   "cell_type": "code",
   "execution_count": null,
   "metadata": {},
   "outputs": [],
   "source": [
    "s = pd.Series([2.0,-1,3,5])\n",
    "print(s)"
   ]
  },
  {
   "cell_type": "markdown",
   "metadata": {},
   "source": [
    "`Series`-Objekte sind ähnlich zu `ndarrays` und können auch in NumPy-Funktionen genutzt werden."
   ]
  },
  {
   "cell_type": "code",
   "execution_count": null,
   "metadata": {},
   "outputs": [],
   "source": [
    "import numpy as np\n",
    "n = np.power(s,2)\n",
    "print(n)\n",
    "print(type(n))"
   ]
  },
  {
   "cell_type": "markdown",
   "metadata": {},
   "source": [
    "Arithmetische Operationen auf `Series`-Objekte funktionieren auch wie Operationen auf `ndarray`."
   ]
  },
  {
   "cell_type": "code",
   "execution_count": null,
   "metadata": {},
   "outputs": [],
   "source": [
    "x = s + [10,20,30,40]\n",
    "y = s + 1000\n",
    "z = s < 0\n",
    "for i in range(0,len(s)):  \n",
    "    print(\"x[%d] = %s \\t y[%d] = %s \\t z[%d] = %s\" %(i, x[i], i, y[i], i, z[i]) )\n"
   ]
  },
  {
   "cell_type": "markdown",
   "metadata": {},
   "source": [
    "In der obigen Code-Zelle ist `i` ein Laufvariable, die die Indizes der Zeilen angibt. `len(s)` liefert die Länge eines sequentiellen Datentyps und ist in diesem Fall gleich 4. `range(0,4)` liefert eine iterierbare Sequenz von 0 bis 4 (ausschließlich), also `0, 1, 2, 3`. Über diese Indizes kann man natürlich auch auf die einzelnen Elemente der `Series` zugreifen.\n",
    "\n",
    "Die gleiche Folge von Indizes kann man auch (ohne die `range`-Funktion) direkt über die `Series` erhalten. Der Funktionsaufruf dazu lautet `s.index.values.tolist()`, wobei `s` der Name der `Series` ist."
   ]
  },
  {
   "cell_type": "markdown",
   "metadata": {},
   "source": [
    "### Index Label\n",
    "\n",
    "Wir haben gerade gesehen, dass wir einzelne Elemente einer `Series` über einen Index ansprechen können. Im Standardfall ist, dass einfach die Position des Elements beginnend mit dem Index 0. Man kann aber auch eigene *Index Label* definieren. Diese definierten Label müssen auch keineswegs vom Typ `int` sein."
   ]
  },
  {
   "cell_type": "code",
   "execution_count": null,
   "metadata": {},
   "outputs": [],
   "source": [
    "s = pd.Series([27, 21, 35], index=[\"Alice\", \"Bob\", \"Carol\"])\n",
    "print(s)\n",
    "print(\"Bob hat %d Punkte.\" % s[\"Bob\"])"
   ]
  },
  {
   "cell_type": "markdown",
   "metadata": {},
   "source": [
    "Der Zugriff über die Position funktioniert dann sogar immer noch:"
   ]
  },
  {
   "cell_type": "code",
   "execution_count": null,
   "metadata": {},
   "outputs": [],
   "source": [
    "print(\"Bob hat %d Punkte.\" % s[1])"
   ]
  },
  {
   "cell_type": "markdown",
   "metadata": {},
   "source": [
    "Anstatt die Funktion `pd.Series()` mit dem Parameter `index`  aufzurufen, kann man die `Series` auch direkt aus einem Dictionary (Wörterbuch) erstellen. Die Schlüssel werden dabei zu *Labels*, die Werte bilden die Datenreihe:"
   ]
  },
  {
   "cell_type": "code",
   "execution_count": null,
   "metadata": {},
   "outputs": [],
   "source": [
    "s = pd.Series({\"Alice\" : 25, \"Bob\" : 21, \"Carol\" : 35})\n",
    "s"
   ]
  },
  {
   "cell_type": "markdown",
   "metadata": {},
   "source": [
    "### Automatische Verknüpfungen\n",
    "\n",
    "Wenn man mehrere `Series`-Objekte über Operationen verknüpft, so werden die Daten entsprechend ihrer Labels ausgerichtet. Im folgenden Beispiel erzeugen wir eine neue `Series` *pluspunkte*, in der die Labels *Alice* und *Bob* (in anderer Reihenfolge) auftauchen. *Carol* ist nicht in der neuen Liste, dafür aber *Dave* und *Eve*.\n",
    "\n",
    "Wenn wir nun die `+`-Operation auf den beiden `Series` ausführen, enthält das Resultat `neueSeries` alle Einträge der beiden anderen Listen. Für diejenigen Einträge, die in beiden `Series` auftreten, wird die `+`-Operation sinnvoll ausgeführt. Alle weiteren Einträge werden zwar aufgenommen, der Wert der Operation ist aber `NaN` (*Not a Number*).\n",
    "\n",
    "`NaN` als Ergebnis mag zwar unschön wirken, ist aber durchaus ein sinnvolles Resultat. Stellen Sie sich vor, fehlende Einträge würde als Wert `0` angenommen. Dies könnte zu Ergebnissen führen, die für die Anwendung gar nicht korrekt sind. Außerdem würden dann in der `Series` lauter Werte stehen und es wäre nicht so einfach ersichtlich, bei welchen Einträgen die Datensätze unvollständig waren."
   ]
  },
  {
   "cell_type": "code",
   "execution_count": null,
   "metadata": {},
   "outputs": [],
   "source": [
    "pluspunkte = pd.Series({\"Bob\" : 1, \"Alice\" : 5, \"Dave\" : 15, \"Eve\" : 3})\n",
    "print(s)\n",
    "print(pluspunkte)\n",
    "neueSeries = s + pluspunkte\n",
    "print(neueSeries)"
   ]
  },
  {
   "cell_type": "markdown",
   "metadata": {},
   "source": [
    "##  Tabellen mit `DataFrame`\n",
    "\n",
    "Ein `DataFrame` Objekt ist eine zweidimensionale Tabelle. Die Zeilen, wie auch die Spalten sind benannt, auch hier heißen die Namen *Label*. Jede Spalte eines `DataFrame` ist dabei im Wesentlichen `Series`-Objekt. Man kann ein `DataFrame`Objekt z.B. aus einem Dictionary von `Series`-Objekten erzeugen:"
   ]
  },
  {
   "cell_type": "code",
   "execution_count": null,
   "metadata": {},
   "outputs": [],
   "source": [
    "namen=[\"Alice\", \"Bob\", \"Carol\", \"Dave\", \"Eve\"]\n",
    "punkte = pd.Series([27, 21, 35], index=namen[0:3])\n",
    "matnr =  pd.Series([833421, 831473, 700326, 833711, 831612], index=namen)\n",
    "pluspunkte = pd.Series({\"Bob\" : 1, \"Alice\" : 5, \"Dave\" : 15, \"Eve\" : 3})\n",
    "\n",
    "\n",
    "stud_dictionary = {\n",
    "    \"Bonuspunkte\": punkte,\n",
    "    \"Matrikelnummern\": matnr,\n",
    "    \"Pluspunkten\": pluspunkte\n",
    "}\n",
    "stud = pd.DataFrame(stud_dictionary)\n",
    "stud"
   ]
  },
  {
   "cell_type": "markdown",
   "metadata": {},
   "source": [
    "Auf einzelne Spalten des `DataFrame`-Objekts greift man wie bei einem Dictionary über den Namen der Spalte zu."
   ]
  },
  {
   "cell_type": "code",
   "execution_count": null,
   "metadata": {},
   "outputs": [],
   "source": [
    "stud[\"Matrikelnummern\"]"
   ]
  },
  {
   "cell_type": "markdown",
   "metadata": {},
   "source": [
    "Es können auch mehrere Spalten ausgewählt werden. Dann müssen die Spaltennamen als Liste übergeben werden."
   ]
  },
  {
   "cell_type": "code",
   "execution_count": null,
   "metadata": {},
   "outputs": [],
   "source": [
    "stud[[\"Matrikelnummern\", \"Bonuspunkte\"]]"
   ]
  },
  {
   "cell_type": "markdown",
   "metadata": {},
   "source": [
    "Auf die Daten für einzelne Zeilen der Tabelle greift man über das Attribut `loc` zu."
   ]
  },
  {
   "cell_type": "code",
   "execution_count": null,
   "metadata": {},
   "outputs": [],
   "source": [
    "stud.loc[\"Bob\"]"
   ]
  },
  {
   "cell_type": "markdown",
   "metadata": {},
   "source": [
    "`DataFrames` können auch direkt aus zweidimensionalen NumPy Arrays erzeugt werden. Im folgenden Beispiel wird ein `ndarray` mit Geburtsjahren, Matrikelnummern und Studiengangsnamen von Personen angelegt. Aus diesem Array `p` wird dann ein `DataFrame` erzeugt. Dazu wird `p` transponiert und mit Spalten- (`columns`) und Zeilen-Labels (`index`) versehen. Fehlende Werte im Array können z.B. mit `np.nan` angelegt werden."
   ]
  },
  {
   "cell_type": "code",
   "execution_count": null,
   "metadata": {},
   "outputs": [],
   "source": [
    "import numpy as np\n",
    "p = np.array([[1995, 1992, 1988, 2001, 1999], \n",
    "     [833421, 831473, 700326, 0, 831612],\n",
    "     [\"Info\", \"MBau\", \"Info\", \"ETech\", \"Info\"]\n",
    "    ])\n",
    "\n",
    "namen=[\"Alice\", \"Bob\", \"Carol\", \"Dave\", \"Eve\"]\n",
    "\n",
    "personen = pd.DataFrame(\n",
    "    p.T,\n",
    "    columns=[\"Geburtsjahr\", \"Matrikelnummer\", \"Studiengang\"],\n",
    "    index=namen\n",
    "    )\n",
    "personen"
   ]
  },
  {
   "cell_type": "markdown",
   "metadata": {},
   "source": [
    "Manchmal ist es hilfreich, die Spalten einer Tabelle in weitere Klassen zu unterteilten. Dies geht mit sogenannten *Multilabels*. Im folgenden Beispiel legen wir die den obigen `DataFrame` erneut an. Nun geben aber nun statt der Spaltennamen, Tupel, bestehend aus Klassenname und Spaltenname, an. Die Funktion `pd.MultiIndex.from_tuples()` generiert daraus hierarchische Spaltenbezeichnungen."
   ]
  },
  {
   "cell_type": "code",
   "execution_count": null,
   "metadata": {},
   "outputs": [],
   "source": [
    "personen_mult = pd.DataFrame(\n",
    "    p.T,\n",
    "    columns=pd.MultiIndex.from_tuples(\n",
    "        [(\"persoenlich\", \"Geburtsjahr\"), (\"verwaltung\",\"Matrikelnummer\"), (\"verwaltung\",\"Studiengang\")]\n",
    "    ),\n",
    "    index=namen\n",
    "    )\n",
    "personen_mult"
   ]
  },
  {
   "cell_type": "markdown",
   "metadata": {},
   "source": [
    "Wenn wir nun auf eine bestimmte Klasse der Spalten zugreifen wollen, geht das einfach über den Klassennamen:"
   ]
  },
  {
   "cell_type": "code",
   "execution_count": null,
   "metadata": {},
   "outputs": [],
   "source": [
    "personen_mult[\"verwaltung\"]"
   ]
  },
  {
   "cell_type": "markdown",
   "metadata": {},
   "source": [
    "Einzelne Spalten können nun über die Angabe der beiden Labels ausgewählt werden."
   ]
  },
  {
   "cell_type": "code",
   "execution_count": null,
   "metadata": {},
   "outputs": [],
   "source": [
    "personen_mult[\"verwaltung\",\"Matrikelnummer\"]"
   ]
  },
  {
   "cell_type": "markdown",
   "metadata": {},
   "source": [
    "### DataFrames Speicher und Laden"
   ]
  },
  {
   "cell_type": "markdown",
   "metadata": {},
   "source": [
    "Wir haben in diesen Abschnitt nur betrachtet, wie man DataFrames aus Listen oder NumPy Arrays erstellt. Der gebräuchlichste Weg aber, um `DataFrame`-Objekte zu erzeugen, ist das Laden von Daten aus einer Datei. Ein verbreitetes Tabellenformat ist CSV (*Comma Separated Values*). CSV-Dateien können wie folgt in einen `DataFrame` eingelesen werden:\n",
    "\n",
    "```python\n",
    "neuer_df = pd.read_csv(\"Tabelle.csv\", index_col=0)\n",
    "```\n",
    "\n",
    "In diesem Beispiel weisen wir die `read_csv`-Methode an, die erste Spalte der Tabelle als Indexlabel zu verwenden.\n",
    "Um die Spaltennamen zu setzen, können sie einen Parameter `header` auf die Nummer der Zeile setzen, in der die Tabelle die Namen der Spalten trägt.\n",
    "Setzen Sie `header=infer`, so sucht Pandas automatisch nach einer passenden Zeile mit Spaltennamen.\n",
    "\n",
    "Ähnliche Methoden existieren auch für das Exportieren von DataFrames. Darüber hinaus werden noch viele andere Formate außer CSV unterstützt."
   ]
  },
  {
   "cell_type": "markdown",
   "metadata": {},
   "source": [
    "```python\n",
    "neuer_df.to_csv(\"MeinDataFrame.csv\")\n",
    "neuer_df.to_html(\"MeinDataFrame.html\")\n",
    "neuer_df.to_json(\"MeinDataFrame.json\")\n",
    "```"
   ]
  },
  {
   "cell_type": "markdown",
   "metadata": {},
   "source": [
    "### DataFrames verändern\n",
    "\n",
    "`DataFrames`  können wie NumPy Arrays mit dem `T`-Attribut transponiert werden:"
   ]
  },
  {
   "cell_type": "code",
   "execution_count": null,
   "metadata": {},
   "outputs": [],
   "source": [
    "eintraege = personen_mult.T\n",
    "eintraege"
   ]
  },
  {
   "cell_type": "markdown",
   "metadata": {},
   "source": [
    "Spalten können einfach mit den `del`-Operator aus dem `DataFrame` gelöscht werden. Im folgenden Beispiel erzeugen wir zuerst eine Kopie des `DataFrame`-Objekts mit der `copy`-Methode Beachten Sie, dass eine einfache Zuweisung an dieser Stelle nicht genügt, um einen neuen `DataFrame` zu erzeugen. Der Ausdruck `eintraege_tmp = eintraege` würde nur eine Referenz `eintraege_tmp` für das gleiche Objekt erstellen. Änderungen an `eintraege_tmp` würden dann ebenso das Objekt `eintraege` betreffen."
   ]
  },
  {
   "cell_type": "code",
   "execution_count": null,
   "metadata": {},
   "outputs": [],
   "source": [
    "eintraege_tmp = eintraege.copy(deep=True)\n",
    "del eintraege_tmp[\"Dave\"]\n",
    "eintraege_tmp"
   ]
  },
  {
   "cell_type": "markdown",
   "metadata": {},
   "source": [
    "Neue Spalten hinzufügen, kann man mit der Methode `insert()`.\n",
    "Der erste Parameter gibt dabei an, nach welcher Spalte der neue Datensatz eingefügt werden soll."
   ]
  },
  {
   "cell_type": "code",
   "execution_count": null,
   "metadata": {},
   "outputs": [],
   "source": [
    "eintraege_tmp.insert(4, \"Duane\", [2000, 833935, \"MBau\"])\n",
    "eintraege_tmp"
   ]
  },
  {
   "cell_type": "markdown",
   "metadata": {},
   "source": [
    "### Spalten \"Stapeln\" und \"Entstapeln\"\n",
    "\n",
    "Mit der `stack()` Methode kann man die Spalten eines `DataFrame` aufstapeln.\n",
    "Angenommen, eine Tabelle hat $m$ Zeilen und $n$ Spalten.\n",
    "Die `stack()`-Funktion erzeugt daraus ein `Series`-Objekt mit $m*n$ Elementen.\n",
    "Jede einzelne Zeile wird dabei ver-$n$-facht, indem alle $n$ Spaltenwerte der Zeile \"untereinander\" geschrieben werden.\n",
    "Das Label der Zeile wird kombiniert aus dem alten Zeilennamen plus dem alten Spaltennamen."
   ]
  },
  {
   "cell_type": "code",
   "execution_count": null,
   "metadata": {},
   "outputs": [],
   "source": [
    "print(personen)\n",
    "personen_stack = personen.stack()\n",
    "personen_stack"
   ]
  },
  {
   "cell_type": "markdown",
   "metadata": {},
   "source": [
    "Mit `unstack()` macht man das Stapeln rückgängig.\n",
    "Beide Methoden, `stack()` und `unstack()`, verändern dabei nicht die existierenden Objekte, sondern liefern neu (kopierte) Objekte zurück."
   ]
  },
  {
   "cell_type": "code",
   "execution_count": null,
   "metadata": {},
   "outputs": [],
   "source": [
    "personen_neu = personen_stack.unstack()\n",
    "personen_neu"
   ]
  },
  {
   "cell_type": "markdown",
   "metadata": {},
   "source": [
    "### Neue Spalten Erzeugen\n",
    "\n",
    "Wenn Sie gelegentlich mit Tabellenkalkulationsprogrammen arbeiten, wissen Sie, dass es häufig nützlich ist, neue Spalten aus den Werten in bestehenden Spalten zu erzeugen. Dies können Sie bei Pandas mit der funktion `assign()` machen.\n",
    "\n",
    "Für das Beispiel erzeugen wir uns zunächst einen neuen `DataFrame` mit `copy()`. Danach schauen wir uns über das Attribut `dtypes` an, welche Datentypen die Werte in den Spalten unseres `DataFrames` besitzen."
   ]
  },
  {
   "cell_type": "code",
   "execution_count": null,
   "metadata": {},
   "outputs": [],
   "source": [
    "personen_neu = personen.copy(deep=True)\n",
    "personen_neu.dtypes"
   ]
  },
  {
   "cell_type": "markdown",
   "metadata": {},
   "source": [
    "Leider sind die Daten in unserer Tabelle bisher mit dem allgemeinen Datentyp `object` hinterlegt. Bevor wir mit den Daten arbeiten, ist es daher sinnvoll, eine Typumwandlung vorzunehmen. Umwandeln können wir den Datentyp einer `Series` mit der Funktion `astype(t)`, die einen Datentyp `t` als Parameter erwartet. In unserem Beispiel wandeln wir die Spalte *Geburtsjahr* in einen `int`-Typ um, Sie Spalte *Studiengang* in `str`. Da `astype` ein neues Objekt erzeugt, weisen wir das Ergebnis der existierenden Spalte in `DataFrame` zu."
   ]
  },
  {
   "cell_type": "code",
   "execution_count": null,
   "metadata": {},
   "outputs": [],
   "source": [
    "personen_neu[\"Geburtsjahr\"] = personen_neu[\"Geburtsjahr\"].astype(int)\n",
    "personen_neu[\"Studiengang\"] = personen_neu[\"Studiengang\"].astype(str)"
   ]
  },
  {
   "cell_type": "markdown",
   "metadata": {},
   "source": [
    "Um eine sinnvolle Berechnung durchführen zu können, erweitern wir den Datensatz um zwei Spalten *Geburtsmonat* und *Geburtstag*."
   ]
  },
  {
   "cell_type": "code",
   "execution_count": null,
   "metadata": {},
   "outputs": [],
   "source": [
    "personen_neu.insert(1, \"Geburtsmonat\", [1,2,3,4,5])\n",
    "personen_neu.insert(2, \"Geburtstag\", [11,23,12,7,2])"
   ]
  },
  {
   "cell_type": "markdown",
   "metadata": {},
   "source": [
    "Wir wollen nun aus dem Geburtsjahr, -monat und -tag das ungefähre Alter der Person in Tagen errechnen.\n",
    "(Die Schaltjahre ignorieren wir an dieser Stelle.)\n",
    "Um von den Monatszahlen auf die Tage zu kommen, legen wir ein Array `monatstage` an.\n",
    "Die Werte in diesem Array geben an, wie viele Tage vor Beginn des jeweiligen Monats vergangen sind.\n",
    "Im Januar sind 0 Tage vergangen, am 1. April sind bereits 91 Tage vergangen."
   ]
  },
  {
   "cell_type": "code",
   "execution_count": null,
   "metadata": {},
   "outputs": [],
   "source": [
    "monatstage = np.cumsum([0, 31,28,31,30,31,30,31,31,30,31,30])\n",
    "monatstage"
   ]
  },
  {
   "cell_type": "markdown",
   "metadata": {},
   "source": [
    "Mit diesem Hilfs-Array erzeigen wir nun ein neues Array, das für jede Person in dem `Dataframe` die Jahrestage vor dem jeweiligen Geburtsmonat berechnet."
   ]
  },
  {
   "cell_type": "code",
   "execution_count": null,
   "metadata": {},
   "outputs": [],
   "source": [
    "monatstage_pro_person = np.array([monatstage[x-1] for x in personen_neu[\"Geburtsmonat\"].values])\n",
    "monatstage_pro_person"
   ]
  },
  {
   "cell_type": "markdown",
   "metadata": {},
   "source": [
    "Nun können wir das Alter der Personen in Tagen bestimmen. Aus dem Geburtsjahr berechnen wir das Alter in Jahren (plus Eins).\n",
    "Die Werte in `monatstage_pro_person` sowie die Einträge in der Spalte *Geburtstag* ergeben die verstrichenen Tage im Geburtsjahr.\n",
    "Diese ziehen wir vom Jahreswert ab und erhalten damit das Alter der Person zum 1.1. des aktuellen Jahres.\n",
    "Auf diesen Wert addieren wir dann die verstrichen Tage im aktuellen Jahr.\n",
    "\n",
    "Das Resultat fügen wir als Splate *Alter* der Tabelle hinzu.\n",
    "Außerdem hängen wir eine Spalte an, die beshreibt, ob eine Person Informatik studiert."
   ]
  },
  {
   "cell_type": "code",
   "execution_count": null,
   "metadata": {},
   "outputs": [],
   "source": [
    "aktuelles_Jahr = 2019\n",
    "aktueller_Tag = 78 # 18. März \n",
    "\n",
    "personen_neu = personen_neu.assign(\n",
    "    Alter = (aktuelles_Jahr-personen_neu[\"Geburtsjahr\"]) * 365 - \n",
    "             monatstage_pro_person -\n",
    "             personen_neu[\"Geburtstag\"] + \n",
    "             aktueller_Tag,\n",
    "    Informatiker = personen_neu[\"Studiengang\"] == \"Info\"\n",
    ")\n",
    "personen_neu"
   ]
  },
  {
   "cell_type": "markdown",
   "metadata": {},
   "source": [
    "### Daten abfragen\n",
    "\n",
    "Wenn die Daten in einem `DataFrame`-Objekt zusammengefastt sind, kann man einfache Anfragen mit den Funktionen `eval` und `query` an den Datensatz stellen. `eval` erwartet als Parameter einen auswertenden Ausdruck in Form eines Strings. In diesem Ausdruck können die Spaltennamen direkt über ihre Bezeichner verwendet werden. Auch Python Variable können in dem Ausdruck verwendet werden. Um Überschneidungen mit der Spaltennamen zu vermeiden, muss den Variablen ein `@` vorangestellt sein.\n"
   ]
  },
  {
   "cell_type": "code",
   "execution_count": null,
   "metadata": {},
   "outputs": [],
   "source": [
    "grenzwert_tage = 9000\n",
    "personen_neu.eval(\"Alter < @grenzwert_tage and Informatiker\")"
   ]
  },
  {
   "cell_type": "markdown",
   "metadata": {},
   "source": [
    "Der `eval` Ausdruck oben, liefert eine neue `Series`. Man kann aber auch die Werte in der Tabelle direkt ändern. Dazu setzen wir den Parameter `inplace=True`.\n",
    "\n",
    "Für ein Beispiel fügen wir zunächst 3 neue Spalten an unseren `DataFrame` an:"
   ]
  },
  {
   "cell_type": "code",
   "execution_count": null,
   "metadata": {},
   "outputs": [],
   "source": [
    "personen_neu = personen_neu.assign(\n",
    "    A1 = [10,5,10,10,0],\n",
    "    A2 = [10,10,5,5,5],\n",
    "    Aufgaben = 0\n",
    ")\n",
    "personen_neu"
   ]
  },
  {
   "cell_type": "markdown",
   "metadata": {},
   "source": [
    "Nun können wir die Summe der Spalten *A1* und *A2* bilden und direkt nach *Aufgaben* schreiben."
   ]
  },
  {
   "cell_type": "code",
   "execution_count": null,
   "metadata": {},
   "outputs": [],
   "source": [
    "personen_neu.eval(\"Aufgaben = A1 + A2\", inplace=True)\n",
    "personen_neu"
   ]
  },
  {
   "cell_type": "markdown",
   "metadata": {},
   "source": [
    "Mit `eval` haben wir einen Ausdruck ausgewertet und die Ergebnisse für alle Zeilen des Datensatzes berechnet.\n",
    "Die `query()`-Funktion erlaubt es, den `DataFrame` zu filtern und somit diejenigen Zeilen auszuwählen, bei denen die Auswertung eines Ausdruckes logisch Wahr ergibt."
   ]
  },
  {
   "cell_type": "code",
   "execution_count": null,
   "metadata": {},
   "outputs": [],
   "source": [
    "min_punkte = 10\n",
    "personen_neu.query(\"Aufgaben <= @min_punkte and Informatiker\")"
   ]
  },
  {
   "cell_type": "markdown",
   "metadata": {},
   "source": [
    "DataFrames können auch sortiert werden.\n",
    "Mit `sort_index` erfolgt eine zeilenbasierte Sortierung bei der als Sortierschlüssel das Zeilenlabel verwendet wird.\n",
    "Mit `sort_values` wird nach Spalten sortiert.\n",
    "Hierbei kann man mit dem Parameter `by` die Spalte auswählen, die als Sortierschlüssel verwendet werden soll.\n",
    "Um in absteigender Reihenfolge zu sortieren, setzt man den Parameter `ascending` auf `False`."
   ]
  },
  {
   "cell_type": "code",
   "execution_count": null,
   "metadata": {},
   "outputs": [],
   "source": [
    "personen_neu.sort_index(ascending=False)"
   ]
  },
  {
   "cell_type": "markdown",
   "metadata": {},
   "source": [
    "Die Funktionen liefern dabei eine sortierte *Kopie* das `DataFrame`-Objekts zurück.\n",
    "Um die Tabellen selbst zu ändern, gibt man den Parameter `inplace` mit dem Wert `True` an"
   ]
  },
  {
   "cell_type": "code",
   "execution_count": null,
   "metadata": {},
   "outputs": [],
   "source": [
    "personen_neu.sort_values(by=\"Matrikelnummer\", inplace=True)\n",
    "personen_neu"
   ]
  },
  {
   "cell_type": "markdown",
   "metadata": {},
   "source": [
    "## Operationen auf `DataFrame`-Objekten\n",
    "\n",
    "Viele der Operationen, die mit NumPy aud `ndarrays` möglich sind, unterstüzt in gleicher oder ähnlicher Form auch Pandas mit den DataFrames. So können beispielsweise arithmetische Operationen auf komplette `DataFrame`-Objekten ausgeführt werden. Die Möglichkeiten sind sehr Umfangreich und wir geben an dieser Stelle nur einige kleine Beispiele."
   ]
  },
  {
   "cell_type": "code",
   "execution_count": null,
   "metadata": {},
   "outputs": [],
   "source": [
    "punkte_np = np.array([[5,10,10],[10,5,5],[0, 0, 5], [5, 5, 10]])\n",
    "punkte = pd.DataFrame(punkte_np, columns=[\"A1\", \"A2\", \"A3\"], index=[\"Alice\",\"Bob\",\"Carol\",\"Dave\"])\n",
    "print(\"Ausgangs-DataFrame:\\n\", punkte)\n",
    "print(\"\\nWurzel:\\n\", np.sqrt(punkte))\n",
    "print(\"\\nAddition:\\n\", punkte+10)\n",
    "print(\"\\nBedingung:\\n\", punkte>5)\n",
    "print(\"\\nBedingung (muss für alle Elemente einer Spalte erfüült sein):\\n\", (punkte>0).all())\n",
    "print(\"\\nMittelwert über alle Spalten:\\n\", punkte.mean())"
   ]
  },
  {
   "cell_type": "markdown",
   "metadata": {},
   "source": [
    "## Umgang mit fehlenden Daten\n",
    "\n",
    "Ein großes Problem bei statistischen Analysen sind unvollständige Datensätze.\n",
    "Pandas liefert einige Methoden, um Lücken in Datensätzen sinnvoll zu schließen.\n",
    "\n",
    "Definieren wir uns für ein Beispiel zuerst eine Tabelle mit einigen fehlenden  Werten."
   ]
  },
  {
   "cell_type": "code",
   "execution_count": null,
   "metadata": {},
   "outputs": [],
   "source": [
    "punkte_np = np.array([[5,np.nan,10],[np.nan,5,np.nan],[0, 0, np.nan], [np.nan, 5, 10]])\n",
    "punkte = pd.DataFrame(punkte_np, columns=[\"A1\", \"A2\", \"A3\"], index=[\"Alice\",\"Bob\",\"Carol\",\"Dave\"])\n",
    "punkte"
   ]
  },
  {
   "cell_type": "markdown",
   "metadata": {},
   "source": [
    "Um die `NaN`-Einträge zu eliminieren, kann die `fillna()` Methode eingesetzt werden.\n",
    "Damit können wir z.B. alle fehlenden Einträge durch eine `0` ersetzen."
   ]
  },
  {
   "cell_type": "code",
   "execution_count": null,
   "metadata": {},
   "outputs": [],
   "source": [
    "punkte.fillna(0)"
   ]
  },
  {
   "cell_type": "markdown",
   "metadata": {},
   "source": [
    "Manchmal ist es aber nicht zielführend, fehlende Einträge durch Konstanten zu ersetzen.\n",
    "Eventuell möchte man die Lücken durch sinnvolle Schätzungen auffüllen.\n",
    "Dies kann man mit der Methode `interpolate` realisieren.\n",
    "Über den Parameter `axis` kann man angeben, nach welcher Achse die Interpolation stattfinden soll.\n",
    "`axis=0` wählt die Zeilen aus, im Beispiel entspricht das einer Interpolation über die Aufgaben *A1*-*A3*.\n",
    "Da Alice bei A1 5 Punkte erzielt hat und Carol 0, wird der Wert für Bob mit 2.5 abgeschätzt.\n",
    "Eine solche Schätzung ist für unser Beispiel weniger sinnvoll."
   ]
  },
  {
   "cell_type": "code",
   "execution_count": null,
   "metadata": {},
   "outputs": [],
   "source": [
    "punkte.interpolate(axis=0)"
   ]
  },
  {
   "cell_type": "markdown",
   "metadata": {},
   "source": [
    "Mit `axis=1` erfolgt die Interpolation über Spalten der Tabelle.\n",
    "Es wird also geschätzt, wie viele Punkte eine Person für eine Aufgabe erzielt hätte.\n",
    "Diese Methode passt schon eher auf unser Beispiel, denn Sie würde Personen, die tendenziell viele Punkte sammeln, höhere Punktzahlen eintragen."
   ]
  },
  {
   "cell_type": "code",
   "execution_count": null,
   "metadata": {},
   "outputs": [],
   "source": [
    "punkte.interpolate(axis=1)"
   ]
  },
  {
   "cell_type": "markdown",
   "metadata": {},
   "source": [
    "Sie sehen aber auch, dass die Lücken an den Rändern durch die Interpolation nicht geschlossen werden können.\n",
    "Wir können diese Lücken nun anderweitig schließen oder die Zeilen im Notfall mit der `dropna`-Funktion komplett verwerfen."
   ]
  },
  {
   "cell_type": "code",
   "execution_count": null,
   "metadata": {},
   "outputs": [],
   "source": [
    "(punkte.interpolate(axis=1)).dropna(axis=0)"
   ]
  },
  {
   "cell_type": "markdown",
   "metadata": {},
   "source": [
    "### Informationen zu `DataFrame`-Objekten\n",
    "\n",
    "Pandas stellt einige Funktionen bereit, die Ihnen allgemeine Informationen zu `DataFrame`-Objekten liefern."
   ]
  },
  {
   "cell_type": "markdown",
   "metadata": {},
   "source": [
    "Mit `head()` geben Sie die ersten 5 Zeilen der Tabelle aus.\n",
    "`tail()` liefert entsprechend die 5 letzten Zeilen."
   ]
  },
  {
   "cell_type": "code",
   "execution_count": null,
   "metadata": {},
   "outputs": [],
   "source": [
    "zahlen_np  = np.random.lognormal(0, 1, 4000).reshape((1000, 4))\n",
    "zahlen = pd.DataFrame(zahlen_np, columns=[\"Reihe1\", \"Reihe2\", \"Reihe3\", \"Reihe4\"])\n",
    "print(zahlen.head())\n",
    "print(zahlen.tail())"
   ]
  },
  {
   "cell_type": "markdown",
   "metadata": {},
   "source": [
    "`info()` liefert einige Angaben zu der Anzahl von gültigen Werten in den Spalten und zeigt deren Datentyp an."
   ]
  },
  {
   "cell_type": "code",
   "execution_count": null,
   "metadata": {},
   "outputs": [],
   "source": [
    "zahlen.info()"
   ]
  },
  {
   "cell_type": "markdown",
   "metadata": {},
   "source": [
    "Mit `describe()` erhält man einige statistische Angaben zu den Werten in allen Spalten:\n",
    "* `count`: Anzahl gültiger (nicht-NaN) Werte\n",
    "* `mean`: Mittelwert aller gültigen Werte in der Spalte\n",
    "* `std`: Standardabweichung\n",
    "* `min`: Minimum der Werte in der Spalte\n",
    "* `25%`, `50%`, `75%`: 0.25, 0.5 und 0.75 [Quantile](https://de.wikipedia.org/wiki/Quantil_(Wahrscheinlichkeitstheorie)#Besondere_Quantile)\n",
    "* `max`: Maximum der Werte in der Spalte"
   ]
  },
  {
   "cell_type": "code",
   "execution_count": null,
   "metadata": {},
   "outputs": [],
   "source": [
    "zahlen.describe()"
   ]
  },
  {
   "cell_type": "markdown",
   "metadata": {},
   "source": [
    "## Weitere Themen\n",
    "\n",
    "Die Pandas Bibliothek ist sehr umfangreicher und umfasst deutlich mehr Funktionen, als wir an dieser Stelle vorstellen können.\n",
    "Vor allem können auf `DataFrame`-Objekten viele Operationen ausgeführt werden, die auch aus relationalen Datenbanken bekannt sind, z.B. Aggregatfunktionen und Verknüpfungen."
   ]
  },
  {
   "cell_type": "code",
   "execution_count": null,
   "metadata": {},
   "outputs": [],
   "source": []
  }
 ],
 "metadata": {
  "kernelspec": {
   "display_name": "Python 3 (ipykernel)",
   "language": "python",
   "name": "python3"
  },
  "language_info": {
   "codemirror_mode": {
    "name": "ipython",
    "version": 3
   },
   "file_extension": ".py",
   "mimetype": "text/x-python",
   "name": "python",
   "nbconvert_exporter": "python",
   "pygments_lexer": "ipython3",
   "version": "3.10.8"
  },
  "toc": {
   "toc_cell": false,
   "toc_number_sections": true,
   "toc_section_display": "none",
   "toc_threshold": 6,
   "toc_window_display": true
  },
  "varInspector": {
   "cols": {
    "lenName": 16,
    "lenType": 16,
    "lenVar": 40
   },
   "kernels_config": {
    "python": {
     "delete_cmd_postfix": "",
     "delete_cmd_prefix": "del ",
     "library": "var_list.py",
     "varRefreshCmd": "print(var_dic_list())"
    },
    "r": {
     "delete_cmd_postfix": ") ",
     "delete_cmd_prefix": "rm(",
     "library": "var_list.r",
     "varRefreshCmd": "cat(var_dic_list()) "
    }
   },
   "types_to_exclude": [
    "module",
    "function",
    "builtin_function_or_method",
    "instance",
    "_Feature"
   ],
   "window_display": false
  }
 },
 "nbformat": 4,
 "nbformat_minor": 1
}
