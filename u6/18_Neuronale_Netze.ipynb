{
 "cells": [
  {
   "cell_type": "markdown",
   "id": "056d061e",
   "metadata": {},
   "source": [
    "<figure>\n",
    "  <IMG SRC=\"https://upload.wikimedia.org/wikipedia/commons/thumb/d/d5/Fachhochschule_Südwestfalen_20xx_logo.svg/320px-Fachhochschule_Südwestfalen_20xx_logo.svg.png\" WIDTH=250 ALIGN=\"right\">\n",
    "</figure>\n",
    "\n",
    "# Machine Learning\n",
    "### Sommersemester 2023\n",
    "Prof. Dr. Heiner Giefers"
   ]
  },
  {
   "cell_type": "markdown",
   "metadata": {},
   "source": [
    "# Rückblick Logistic Regression\n",
    "\n",
    "In diesem Aufgabenblatt wollen wir nochmal auf die Logistische Regression zurückblicken und aus dem Linearen Modell ein eifaches neuronales Netz herleiten.\n",
    "Dazu schauen wir uns nochmal im Detail an, wie die Modell- und Kostenfunktionen der logistischen Regression aufgebaut sind und implementieren das Gradientenverfahren zur Minimierung der Kostenfunktion per Hand (d.h. mit Python bzw. NumPy)."
   ]
  },
  {
   "cell_type": "code",
   "execution_count": null,
   "metadata": {},
   "outputs": [],
   "source": [
    "import numpy as np\n",
    "from sklearn.model_selection import train_test_split\n",
    "from sklearn.datasets import load_breast_cancer\n",
    "from sklearn.preprocessing import MinMaxScaler\n",
    "import matplotlib.pyplot as plt"
   ]
  },
  {
   "cell_type": "code",
   "execution_count": null,
   "metadata": {},
   "outputs": [],
   "source": [
    "# Test Case\n",
    "m_c, n_c = 20, 4\n",
    "np.random.seed(0)\n",
    "X_c = np.random.randn(m_c, n_c)\n",
    "theta0_c, theta1_c = 0, np.random.randn(n_c, 1)\n",
    "y_c = np.random.randn(m_c, 1)"
   ]
  },
  {
   "cell_type": "markdown",
   "metadata": {},
   "source": [
    "Bei der Logistischen Regression haben wir das Gradientenverfahren benutzt, um die Parameter unseres Modells, einer linearen Funktion $$Z = f_{\\Theta}(x)=\\Theta_0+\\Theta_1x$$ transformiert durch die Aktivierungsfunktion $$\\hat y = h_{\\Theta}(x) = \\sigma(Z) = \\frac{1}{1+e^{-Z}}$$ schrittweise zu verbessern.\n",
    "Die Verbesserung, bzw. die Qualität des Modells, haben wir anhand der Kostenfunktion $$J_{\\Theta}(x)=-\\frac{1}{m} \\sum\\limits_{i = 1}^{m} [y^{(i)}\\log(\\hat y^{(i)}) + (1-y^{(i)})\\log(1- \\hat y^{(i)})]$$ berechnet."
   ]
  },
  {
   "cell_type": "markdown",
   "metadata": {},
   "source": [
    "## Modellfunktion\n",
    "**Aufgabe: Schreibe eine Funktion $f$, die folgende Parameter erhält:**\n",
    "1. Die Matrix $X \\in \\mathbb{R}^{m\\times{}n}$, die die Datenpunkte des Trainigsdatensatzes enthält.\n",
    "2. Die Parameter $\\Theta$. Dabei ist der Bias Parameter $\\Theta_0$ ein skalarer Wert, $\\Theta_1$ hingegen ein Vektor aus $\\mathbb{R}^n$, in Numpy also mit der Dimension `(n, 1)`.\n",
    "\n",
    "**$f$ soll folgende lineare Funktion implementieren:** $$Z = f_{\\Theta}(X)=\\Theta_0+X\\Theta_1$$\n",
    "\n",
    "*Hinweis: Denken Sie daran, dass Matrix-Multiplikationen in NumPy mit dem @-Operator implementiert werden können.**\n"
   ]
  },
  {
   "cell_type": "code",
   "execution_count": null,
   "metadata": {
    "deletable": false,
    "nbgrader": {
     "grade": false,
     "grade_id": "cell-a46e169efb324584",
     "locked": false,
     "schema_version": 3,
     "solution": true,
     "task": false
    }
   },
   "outputs": [],
   "source": [
    "def f(X, theta0, theta1):\n",
    "    \"\"\"evaluates linear function.\n",
    "    Arguments:\n",
    "        X: value\n",
    "        theta0: Bias\n",
    "        theta1: Function slope\n",
    "    \"\"\"\n",
    "    \n",
    "    # YOUR CODE HERE\n",
    "    raise NotImplementedError()\n",
    "    \n",
    "    return Z"
   ]
  },
  {
   "cell_type": "code",
   "execution_count": null,
   "metadata": {
    "deletable": false,
    "editable": false,
    "nbgrader": {
     "grade": true,
     "grade_id": "cell-798b7b367b206c2f",
     "locked": true,
     "points": 1,
     "schema_version": 3,
     "solution": false,
     "task": false
    }
   },
   "outputs": [],
   "source": [
    "# Test Cell\n",
    "#----------\n",
    "\n",
    "Z = f(X_c, theta0_c, theta1_c)\n",
    "#----------\n",
    "# f\n",
    "\n",
    "assert Z.shape == (m_c, 1), 'Use correctly sequenced matrix multiplication'\n",
    "assert np.isclose(Z[0], -4.68171, atol=0.001), 'Expected -4.68171 but got %.5f' %Z[0]\n",
    "\n",
    "del Z"
   ]
  },
  {
   "cell_type": "markdown",
   "metadata": {},
   "source": [
    "**Aufgabe: Implementieren Sie die Perzepton-Fuinkion $h$. Die Funktion $h$ soll die gleichen Parameter wie $f$ erhalten und die Funktion $f$ intern aufrufen. Das Ergebnis von $f$ soll durch die Sigmoid-Aktivierungsfunktion transformiert werden.:** $$\\hat y = h_{\\Theta}(x) = \\sigma(Z) = \\frac{1}{1+e^{-Z}}$$\n",
    "\n",
    "*Hinweis: Die Exponentialfunktion angewendet auf ein Argument $z$ können Sie in NumPy mit dem Methodenaufruf `np.exp(z)` berechnen.*"
   ]
  },
  {
   "cell_type": "code",
   "execution_count": null,
   "metadata": {
    "deletable": false,
    "nbgrader": {
     "grade": false,
     "grade_id": "cell-aed34bc92bba34fb",
     "locked": false,
     "schema_version": 3,
     "solution": true,
     "task": false
    }
   },
   "outputs": [],
   "source": [
    "def h(X, theta0, theta1):\n",
    "    \"\"\"returns the sigmoid of the linear function.\n",
    "    Arguments:\n",
    "        X: Data\n",
    "        theta0: Bias\n",
    "        theta1: Function slope\n",
    "    \"\"\"\n",
    "    \n",
    "    # YOUR CODE HERE\n",
    "    raise NotImplementedError()\n",
    "    \n",
    "    return y_hat"
   ]
  },
  {
   "cell_type": "code",
   "execution_count": null,
   "metadata": {
    "deletable": false,
    "editable": false,
    "nbgrader": {
     "grade": true,
     "grade_id": "cell-3680cf0b32123e22",
     "locked": true,
     "points": 1,
     "schema_version": 3,
     "solution": false,
     "task": false
    }
   },
   "outputs": [],
   "source": [
    "# Test Cell\n",
    "#----------\n",
    "\n",
    "y_hat = h(X_c, theta0_c, theta1_c)\n",
    "#----------\n",
    "# h\n",
    "\n",
    "assert y_hat.shape == (m_c, 1)\n",
    "assert np.isclose(y_hat[0], 0.00918, atol=0.001), 'Expected 0.00918 but got %.5f' %y_hat[0]\n",
    "\n",
    "del y_hat"
   ]
  },
  {
   "cell_type": "markdown",
   "metadata": {},
   "source": [
    "## Kostenfunktion\n",
    "\n",
    "**Aufgabe: Berechnen Sie nun die Kostenfunktion. Schreiben Sie eine Funktion $J$, die folgende Parameter erhält:**\n",
    "1. Die Matrix $X \\in \\mathbb{R}^{m\\times{}n}$, die die Datenpunkte des Trainigsdatensatzes enthält. .\n",
    "2. Die Parameter $\\Theta$. Dabei ist der Bias Parameter $\\Theta_0$ ein skalarer Wert, $\\Theta_1$ hingegen ein Vektor aus $\\mathbb{R}^n$, in Numpy also mit der Dimension `(n, 1)`.\n",
    "3. Die Label $y$ in der Größe des Datensatzes `(m, 1)`.\n",
    "\n",
    "**$J$ berechnet die folgende Kostenfunktion:** $$J_{\\Theta}(x)=-\\frac{1}{m} \\sum\\limits_{i = 1}^{m} [y^{(i)}\\log(\\hat y^{(i)}) + (1-y^{(i)})\\log(1- \\hat y^{(i)})]$$\n",
    "\n",
    "\n",
    "*Hinweis: Sie können die Summe in zwei Teilsummen aufteilen und so die Berechnung vektorisieren:*\n",
    "\n",
    " $$-\\frac{1}{m} \\sum\\limits_{i = 1}^{m} [y^{(i)}\\log(\\hat y^{(i)}) + (1-y^{(i)})\\log(1- \\hat y^{(i)})] = -\\frac{1}{m}  \\left( \\sum\\limits_{i = 1}^{m} y^{(i)}\\log(\\hat y^{(i)}) + \\sum\\limits_{i = 1}^{m}(1-y^{(i)})\\log(1- \\hat y^{(i)})\\right)$$\n",
    " \n",
    "*und $\\sum\\limits_{i = 1}^{m} y^{(i)}\\log(\\hat y^{(i)})$ ist einfach das Skalarprodukt aus $y$ und $\\log(\\hat y)$.*\n",
    "\n",
    "*Den natürlichen Logarithmus von `x` berechnen Sie in NumPy mit `np.log(x)`, das Skalarprodukt mit `np.dot(a,b)` oder, falls `a` und `b` (2-dimensionale) Spaltenvektoren sind, einfach mit der Matrizenmultiplikation `a.T@b` (`a` wird transponiert, um einen Zeilenvektor zu erhalten).*\n",
    "\n"
   ]
  },
  {
   "cell_type": "code",
   "execution_count": null,
   "metadata": {
    "deletable": false,
    "nbgrader": {
     "grade": false,
     "grade_id": "cell-2441e8b76f6c8b3b",
     "locked": false,
     "schema_version": 3,
     "solution": true,
     "task": false
    }
   },
   "outputs": [],
   "source": [
    "def J(X,theta0, theta1, y):\n",
    "    \"\"\"computes the Cross-entropy cost function\n",
    "    Arguments:\n",
    "        X: Data\n",
    "        theta0: Bias\n",
    "        theta1: Function slope\n",
    "        y: True labels\n",
    "    \"\"\"\n",
    "    # YOUR CODE HERE\n",
    "    raise NotImplementedError()\n",
    "    \n",
    "    return J.squeeze()"
   ]
  },
  {
   "cell_type": "code",
   "execution_count": null,
   "metadata": {
    "deletable": false,
    "editable": false,
    "nbgrader": {
     "grade": true,
     "grade_id": "cell-6d386b0ed985b5a1",
     "locked": true,
     "points": 1,
     "schema_version": 3,
     "solution": false,
     "task": false
    }
   },
   "outputs": [],
   "source": [
    "# Test Cell\n",
    "#----------\n",
    "\n",
    "cost = J(X_c,theta0_c,theta1_c,y_c)\n",
    "#----------\n",
    "# J\n",
    "\n",
    "assert cost.shape == (), 'Use correctly sequenced matrix multiplication'\n",
    "assert np.isclose(cost, 1.49867, atol=0.001), 'Expected 0.66739 but got %.5f' %cost\n",
    "\n",
    "del cost"
   ]
  },
  {
   "cell_type": "markdown",
   "metadata": {},
   "source": [
    "## Gradientenverfahren\n",
    "\n",
    "**Schreiben Sie für das Gradientenverfahren eine Funktion `grads`, die folgende Parameter erhält**\n",
    "1. Die Matrix $X \\in \\mathbb{R}^{m\\times{}n}$, die die Datenpunkte des Trainigsdatensatzes enthält. .\n",
    "2. Die Parameter $\\Theta$. Dabei ist der Bias Parameter $\\Theta_0$ ein skalarer Wert, $\\Theta_1$ hingegen ein Vektor aus $\\mathbb{R}^n$, in Numpy also mit der Dimension `(n, 1)`.\n",
    "3. Die Label $y$ in der Größe des Datensatzes `(m, 1)`.\n",
    "\n",
    "**und den Fradienten $\\partial\\theta$ für die Parameter $\\theta$ berechnet** \n",
    "\n",
    "Dabei ist $\\partial\\theta_0$ ein Skalar der dem Gradienten des Bias Parameters entspricht: $$\\partial\\theta_0 = \\frac{1}{m} \\sum_{i=1}^m (\\hat y^{(i)}-y^{(i)})$$\n",
    "\n",
    "$\\partial\\theta_1$ ist ein Vektor der Dimension `(n, 1)` mit den Gradienten der anderen Parameter: $$ \\partial \\theta_1 = \\frac{1}{m}X^T(\\hat y-y)$$"
   ]
  },
  {
   "cell_type": "code",
   "execution_count": null,
   "metadata": {
    "deletable": false,
    "nbgrader": {
     "grade": false,
     "grade_id": "cell-467565ebb154795c",
     "locked": false,
     "schema_version": 3,
     "solution": true,
     "task": false
    }
   },
   "outputs": [],
   "source": [
    "def grads(X,theta0, theta1,y):\n",
    "    \"\"\"Calculates grads of the cost function with respect to the parameters.\n",
    "    Arguments:\n",
    "        X: Data\n",
    "        theta0: Bias\n",
    "        theta1: Function slope\n",
    "        y: True labels\n",
    "    \"\"\"\n",
    "    \n",
    "    # YOUR CODE HERE\n",
    "    raise NotImplementedError()\n",
    "    \n",
    "    return dtheta0, dtheta1"
   ]
  },
  {
   "cell_type": "code",
   "execution_count": null,
   "metadata": {
    "deletable": false,
    "editable": false,
    "nbgrader": {
     "grade": true,
     "grade_id": "cell-d5aaa7214b2dfbcd",
     "locked": true,
     "points": 1,
     "schema_version": 3,
     "solution": false,
     "task": false
    }
   },
   "outputs": [],
   "source": [
    "# Test Cell\n",
    "#----------\n",
    "\n",
    "dt0, dt1 = grads(X_c,theta0_c,theta1_c,y_c)\n",
    "#----------\n",
    "# grads\n",
    "\n",
    "assert dt0.shape == (), 'theta0 should be a scaler'\n",
    "assert dt1.shape == theta1_c.shape\n",
    "assert np.isclose(dt1[0], -0.22445, atol=0.001), 'Expected -0.22445 but got %.5f' %dt1[0]"
   ]
  },
  {
   "cell_type": "markdown",
   "metadata": {},
   "source": [
    "**Aufgabe: Schreiben Sie nun eine Funktion, die die Modellparameter aufgrund der berechneten Gradienten aktualisiert.Die Funktion `update`erhält die Parameter $\\theta$, die Gradienten $\\partial \\theta$ sowie die Lernrate $\\alpha$ und berechnet:**\n",
    "\n",
    "$$\\theta = \\theta - \\alpha \\cdot \\partial \\theta$$"
   ]
  },
  {
   "cell_type": "code",
   "execution_count": null,
   "metadata": {
    "deletable": false,
    "nbgrader": {
     "grade": false,
     "grade_id": "cell-9c9c665b5ef00354",
     "locked": false,
     "schema_version": 3,
     "solution": true,
     "task": false
    }
   },
   "outputs": [],
   "source": [
    "def update(theta0, theta1,dtheta0, dtheta1, alpha):\n",
    "    \"\"\"updates parameters using gradient decent updating rule.\"\"\"\n",
    "    \n",
    "    # YOUR CODE HERE\n",
    "    raise NotImplementedError()\n",
    "    \n",
    "    return theta0, theta1"
   ]
  },
  {
   "cell_type": "code",
   "execution_count": null,
   "metadata": {
    "deletable": false,
    "editable": false,
    "nbgrader": {
     "grade": true,
     "grade_id": "cell-628e4db830095cf8",
     "locked": true,
     "points": 1,
     "schema_version": 3,
     "solution": false,
     "task": false
    }
   },
   "outputs": [],
   "source": [
    "# Test Cell\n",
    "#----------\n",
    "\n",
    "t0, t1 = update(theta0_c, theta1_c,dt0, dt1, 0.1)\n",
    "#----------\n",
    "# update\n",
    "\n",
    "assert t0.shape == (), 'theta0 should be a scaler'\n",
    "assert t1.shape == theta1_c.shape\n",
    "assert np.isclose(t1[0], -1.14270, atol=0.001), 'Expected -0.141491 but got %.5f' %t1[0]\n",
    "del t0, t1, dt0, dt1"
   ]
  },
  {
   "cell_type": "markdown",
   "metadata": {},
   "source": [
    "Nun können wir das iterative Gradientenverfahren programmieren.\n",
    "\n",
    "**Aufgabe: Schreiben Sie eine Funktion `gradient_descent`, die folgende Parameter erhät:**\n",
    "1. Die Matrix $X \\in \\mathbb{R}^{m\\times{}n}$, die die Datenpunkte des Trainigsdatensatzes enthält. .\n",
    "2. Die Parameter $\\Theta$. Dabei ist der Bias Parameter $\\Theta_0$ ein skalarer Wert, $\\Theta_1$ hingegen ein Vektor aus $\\mathbb{R}^n$, in Numpy also mit der Dimension `(n, 1)`.\n",
    "3. Die Label $y$ in der Größe des Datensatzes `(m, 1)`.\n",
    "4. Die Lernrate $\\alpha$.\n",
    "5. Die Anzahl der Iterationen.\n",
    "**Die Funktion soll die Trainierten Modellparameter $\\theta$ zurückgeben.**\n",
    "\n",
    "*Hinweis*: Berechnen Sie Kosten mit der Funktion `J` und hängen Sie diese Kosten nach jedem BErechnungsschritt and die Liste `cost` an --> Berechnen Sie die Gradienten mit der Funktion `grads` --> Verwenden Sie diese Gradienten um die Parameter mit der Funktion `optim`"
   ]
  },
  {
   "cell_type": "code",
   "execution_count": null,
   "metadata": {
    "deletable": false,
    "nbgrader": {
     "grade": false,
     "grade_id": "cell-c950a15eb73cda45",
     "locked": false,
     "schema_version": 3,
     "solution": true,
     "task": false
    }
   },
   "outputs": [],
   "source": [
    "def gradient_decent(X, theta0, theta1, y, alpha=0.1, iterations=400):\n",
    "    \"\"\"performs gradient decent optimization.\n",
    "    Arguments:\n",
    "        X: Data\n",
    "        theta0: Bias\n",
    "        theta1: Function slope\n",
    "        y: True labels\n",
    "        alpha(default=0.1): Learning rate\n",
    "        iterations(default=400): number of updating iterations\n",
    "    \"\"\"\n",
    "    \n",
    "    costs = []\n",
    "    \n",
    "    for i in range(iterations):\n",
    "        # YOUR CODE HERE\n",
    "        raise NotImplementedError()\n",
    "        \n",
    "    return theta0, theta1, costs"
   ]
  },
  {
   "cell_type": "code",
   "execution_count": null,
   "metadata": {
    "deletable": false,
    "editable": false,
    "nbgrader": {
     "grade": true,
     "grade_id": "cell-9e057a811aa97078",
     "locked": true,
     "points": 1,
     "schema_version": 3,
     "solution": false,
     "task": false
    }
   },
   "outputs": [],
   "source": [
    "# Test Cell\n",
    "#----------\n",
    "\n",
    "t0, t1, costs = gradient_decent(X_c, theta0_c, theta1_c, y_c)\n",
    "#----------\n",
    "# gradient_decent\n",
    "\n",
    "assert len(costs) == 400, 'Make sure to calculate and append the cost in every iteration.'\n",
    "assert np.isclose(t1[3], 2.93724, atol=0.001), 'Expected 1.05186 but got %.5f' %t1[3]\n",
    "\n",
    "del t0, t1, costs"
   ]
  },
  {
   "cell_type": "markdown",
   "metadata": {},
   "source": [
    "## Beispiel\n",
    "\n",
    "Wir habe nun alle Funktionen um unser Perzeptron für einen *echten* Datensatz zu einzusetzen.\n",
    "Wir verwenden hier den Brustkrebs-Datensatz aus Sklearn:"
   ]
  },
  {
   "cell_type": "code",
   "execution_count": null,
   "metadata": {},
   "outputs": [],
   "source": [
    "scaler = MinMaxScaler()\n",
    "data = load_breast_cancer()\n",
    "\n",
    "X_train, X_test, y_train, y_test = train_test_split(data.data,data.target,test_size=0.3)\n",
    "\n",
    "# preprocessing\n",
    "X_train = scaler.fit_transform(X_train)\n",
    "X_test = scaler.transform(X_test)\n",
    "y_train = np.expand_dims(y_train, 1)\n",
    "y_test = np.expand_dims(y_test, 1)"
   ]
  },
  {
   "cell_type": "code",
   "execution_count": null,
   "metadata": {},
   "outputs": [],
   "source": [
    "# initializing parameters\n",
    "theta0 = 0.\n",
    "theta1 = np.zeros((len(X_train[0]), 1))\n",
    "\n",
    "#training the model\n",
    "theta0, theta1, costs = gradient_decent(X_train, theta0, theta1, y_train.reshape(-1, 1), alpha = 2)"
   ]
  },
  {
   "cell_type": "code",
   "execution_count": null,
   "metadata": {},
   "outputs": [],
   "source": [
    "plt.plot(range(1,len(costs)),costs[1:], \"x-\")\n",
    "plt.show()"
   ]
  },
  {
   "cell_type": "code",
   "execution_count": null,
   "metadata": {},
   "outputs": [],
   "source": [
    "# measuring performance\n",
    "y_pred = (h(X_test,theta0, theta1) >= 0.5)*1\n",
    "acc = 100-np.sum(np.abs(y_pred-y_test))*100/len(y_test)\n",
    "\n",
    "\n",
    "print(\"Die classifcation accuracy ist: \",acc)"
   ]
  },
  {
   "cell_type": "markdown",
   "metadata": {},
   "source": [
    "# Neurale Netze\n",
    "\n",
    "Bisher haben wir ein Perzeptron betrachtet, also eine Art Neuronales Netz mit nur einer Schicht. Die gleichen Methoden können wir aber auch für mehrschichtige Neuronale Netze verwenden."
   ]
  },
  {
   "cell_type": "markdown",
   "metadata": {},
   "source": [
    "## Forward Pass\n",
    "\n",
    "![](https://github.com/fh-swf-hgi/ml/raw/main/u6/nn-matrices.png)\n",
    "\n",
    "**Die Lineare Funktion $f$ unserer Netzwerkschicht erhält folgende Parameter:**\n",
    "1. Die Matrix $A \\in \\mathbb{R}^{n^{[i]}\\times{}m}$, mit den Eingabedaten der Netzwerkschicht $i$. Die Zeilen von $A$ enthalten die einzelnen Datenpunkte. Die Spalten von $A$ entsprechend den Merkmalen (und damit den Parametern) eines voll-vermaschten Neurons der aktuellen Schicht.\n",
    "2. Einem Vektor $b \\in \\mathbb{R}^{n^{[i]}}$ mit den Bias Parametern der Netzwerkschicht $i$.\n",
    "3. Die Matrix $W \\in \\mathbb{R}^{n^{[i-1]}\\times{}n^{[i]}}$ mit den Gewichten der Netzwerkschicht $i$.\n",
    "\n",
    "**und liefert folgendes Ergebnis $Z$ zurück:** $$Z = f_{\\Theta}(A)= b + AW$$\n"
   ]
  },
  {
   "cell_type": "code",
   "execution_count": null,
   "metadata": {},
   "outputs": [],
   "source": [
    "def f(A, b, W):\n",
    "    \"\"\"evaluates linear function.\n",
    "    Arguments:\n",
    "        A: Layer input data\n",
    "        b: Biases vector\n",
    "        W: Weights matrix\n",
    "    \"\"\"\n",
    "    Z = b + A@W\n",
    "    cache = (A, b, W) # wir merken uns die Werte A, b, und W in jeder Schicht des netzes\n",
    "    \n",
    "    return Z, cache"
   ]
  },
  {
   "cell_type": "markdown",
   "metadata": {},
   "source": [
    "**Als Aktivierungsfunktion verwenden wir die (nichtlineare) Sigmoid-Funktion.\n",
    "Die Funktion erhält die gleichen Parameter wie  `f` und ruft `f` auch intern auf:**\n",
    "$$A^{[i+1]}= h_{\\Theta}(A^{[i]}) = \\sigma(Z) = \\frac{1}{1+e^{-Z}}$$"
   ]
  },
  {
   "cell_type": "code",
   "execution_count": null,
   "metadata": {},
   "outputs": [],
   "source": [
    "def h(A, b, W):\n",
    "    \"\"\"computes the sigmoid of the linear function.\n",
    "    Arguments:\n",
    "        A: Layer input data\n",
    "        b: Biases vector\n",
    "        W: Weights matrix\n",
    "    \"\"\"\n",
    "    \n",
    "    Z, Zcache = f(A, b, W)\n",
    "    A = 1.0 / (1.0+np.exp(-Z))\n",
    "    cache = (Zcache, Z) # Zu der Eingabe der Schicht merken wir uns im cache den wert der linearen Funktion f\n",
    "    \n",
    "    return A, cache"
   ]
  },
  {
   "cell_type": "markdown",
   "metadata": {},
   "source": [
    "Wie die Abbildung oben zeigt, ist die Größe des Netzes durch die Anzahl der Neuronen auf jeder Schicht festgelegt.\n",
    "Kennt man die Anzahl der Neuronen, kann man die Parameter-Matrizen $W$ und die Vektoren für die Bias Parameter $b$ initialisieren:"
   ]
  },
  {
   "cell_type": "code",
   "execution_count": null,
   "metadata": {},
   "outputs": [],
   "source": [
    "def init(dims):\n",
    "    \"\"\"returns initial weights and biases.\"\"\"\n",
    "    #dims = [X,L1,L2,...,y]\n",
    "    b = []\n",
    "    W = []\n",
    "    \n",
    "    for l in range(1, len(dims)):\n",
    "        b.append(np.zeros((1, dims[l])))\n",
    "        W.append(np.random.randn(dims[l-1], dims[l])*0.01) # to break symmetry, it's good to have non-zero weights \n",
    "        \n",
    "    return b, W"
   ]
  },
  {
   "cell_type": "markdown",
   "metadata": {},
   "source": [
    "Da wir nun die Modellfunktionen für die einezelnen Schichten erstellt haben (und unser Netzwerk auf allen Schichten die gleiche Aktivierungsfunktion nutzt), können wir nun recht einfach eine Funktion für den gesamten **Forward Pass** definieren.\n",
    "Die Funktion `forward` erhält als Parameter die Eingabedaten `X`, sowie **Listen** der Bias-Parameter und der Modellparameter für die einzelnen Schichten. Beachten Sie, dass jedes Element der Listen einen Vektor, bzw. eine Matrix mit den Parametern einer Schicht enthält.\n",
    "Die Länge dieser Listen entspricht also der Tiefe des Neuronalen Netzes."
   ]
  },
  {
   "cell_type": "code",
   "execution_count": null,
   "metadata": {},
   "outputs": [],
   "source": [
    "def forward(X, b, W):\n",
    "    \"\"\"Performs a forward propagation through all layers.\n",
    "    returns the output layer and cache of intermidiates.\n",
    "    \"\"\"\n",
    "    \n",
    "    caches = []\n",
    "    A = X\n",
    "    \n",
    "    for l in range(len(b)):\n",
    "        A_prev = A\n",
    "        A, cache = h(A_prev, b[l], W[l])\n",
    "        # Hänge den cache jeder Schicht an die Liste Caches an\n",
    "        caches.append(cache)\n",
    "        \n",
    "    return A, caches"
   ]
  },
  {
   "cell_type": "markdown",
   "metadata": {},
   "source": [
    "Nachdem wir am Ende des Forward Passes unsere Schätzung berechnet haben, müssen wir für diese Schätzung die Kosten berechnen.\n",
    "Die Funktion `J` erhält folgende Parameter:\n",
    "1. Die vom Modell vorhergesagten Label $\\hat{y}$ in der Größe des Datensatzes (1, m)\n",
    "3. Die tatsächlichen Label unseres Datensatzes $y$, ebenfalls in der Größe (1, m)\n",
    "\n",
    "**Als Kostenfunktion verwenden wir wie schon bei der Logistischen Regression die Kreuzentropie:**\n",
    "$$J(W,b)-\\frac{1}{m} \\sum\\limits_{i = 1}^{m} [y^{(i)}\\log(\\hat{y}^{(i)}) + (1-y^{(i)})\\log(1- \\hat{y}^{(i)})]$$"
   ]
  },
  {
   "cell_type": "code",
   "execution_count": null,
   "metadata": {},
   "outputs": [],
   "source": [
    "def J(y_pred, y):\n",
    "    \"\"\"evaluates Cross-entropy cost function.\"\"\"\n",
    "    J = -(y.T@np.log(y_pred) + ((1.0-y.T)@np.log(1.0-y_pred)))/len(y)\n",
    "    \n",
    "    return J"
   ]
  },
  {
   "cell_type": "markdown",
   "metadata": {},
   "source": [
    "## Backpropagation\n",
    "\n",
    "Der Backpropagation (zu dt. *Fehlerrückführung*) Algorithmus ist ein Spezialfall des Gradientenverfahrens und das am meisten eingesetzte Verfahren zum Trainieren neuronaler Netze.\n",
    "\n",
    "Um Backpropagation zu implementieren definieren wir eine Funktion mit folgenden Parametern:\n",
    "1. Den Gradienten der Kosten nach der Aktivierungsfunktion ($\\partial A$)\n",
    "2. Die zwischengespeicherten Werten $f$ und $h$ der Aktivierungs- und Übertragungsfunktionen aus dem Forward Pass.\n",
    "\n",
    "Zurückgeliefert werden die Gradienten $\\partial b, \\partial W, und \\partial A_{prev}$:\n",
    "\n",
    "$\\partial b$ ist ein Vektor mit den Gradienten der Bias Parameter: $$\\partial b = \\frac{1}{m} \\sum_{i=1}^m (\\partial z^{(i)})$$\n",
    "\n",
    "\n",
    "$\\partial W$ ist eine Matrix mit den Gradienten der Gewichte: $$ \\partial W = \\frac{1}{m}A_{prev}^T\\partial Z$$\n",
    "\n",
    "$\\partial A_{prev}$ ist der Grantient der Kostenfunktion bezüglich der Aktivierungsfunktion $A$ der nächstvorderen Schicht:  $$\\partial A_{prev} = \\frac{1}{m}\\partial ZW^T$$\n",
    "\n"
   ]
  },
  {
   "cell_type": "code",
   "execution_count": null,
   "metadata": {},
   "outputs": [],
   "source": [
    "def back(dA, cache):\n",
    "    \"\"\"calculates grads w.r.t. linear function.\"\"\"\n",
    "    \n",
    "    Zcache, Z = cache\n",
    "\n",
    "    sigma = 1/(1+np.exp(-Z))\n",
    "    dZ = dA * sigma * (1-sigma)\n",
    "        \n",
    "    A_prev, b, W = Zcache\n",
    "    \n",
    "    m = len(A_prev[0])\n",
    "    db = np.sum(dZ, axis=0, keepdims=True)/m\n",
    "    dW = (A_prev.T@dZ)/m\n",
    "    dA_prev = (dZ@W.T)/m\n",
    "    \n",
    "    return dA_prev, db, dW"
   ]
  },
  {
   "cell_type": "markdown",
   "metadata": {},
   "source": [
    "**Wir können nun die Funktion `back` auf allen Schichten des Modells, beginnend mit der Ausgabeschicht und endend auf der Eingabeschicht aufrufen.**"
   ]
  },
  {
   "cell_type": "code",
   "execution_count": null,
   "metadata": {},
   "outputs": [],
   "source": [
    "def grads(y_hat, y, caches):\n",
    "    \"\"\"performs backprobagation through all layers to calculate grads of all parameters.\"\"\"\n",
    "    \n",
    "    db = []\n",
    "    dW = []\n",
    "    \n",
    "    dA = -(y/y_hat - (1-y)/(1-y_hat)) # Gradient der Kostenfunktion auf der Ausgabeschicht\n",
    "    \n",
    "    for l in reversed(range(len(caches))):\n",
    "        # Backward step\n",
    "        dA, db_, dW_ = back(dA, caches[l])\n",
    "\n",
    "        db.insert(0, db_)\n",
    "        dW.insert(0, dW_)\n",
    "        \n",
    "    return db, dW"
   ]
  },
  {
   "cell_type": "markdown",
   "metadata": {},
   "source": [
    "## Optimization\n",
    "\n",
    "Für das Gradientenverfahren benötigen wir noch eine Funktion, die uns die Parameter jeder Schicht, basierend auf den berechneten Gradienten anpasst.\n",
    "Diese Funktion `optim` erhält als Parameter:\n",
    "1. Die Parameter des Neuronalen Netzes ($b, W$),\n",
    "2. die Gradienten der einzelnen Schichten ($\\partial b, \\partial W$) \n",
    "3. sowie die Lernrate $\\alpha$.\n",
    "\n",
    "Die Funktion liefert die aktualisierten Parameter ($b, W$) zurück."
   ]
  },
  {
   "cell_type": "code",
   "execution_count": null,
   "metadata": {},
   "outputs": [],
   "source": [
    "def optim(parameters, grads, alpha):\n",
    "    \"\"\"updates parameters using gradient decent updating rule.\"\"\"\n",
    "    \n",
    "    b, W = parameters\n",
    "    db, dW = grads\n",
    "    \n",
    "    for l in range(len(b)):\n",
    "        b[l] = b[l] - alpha*db[l]\n",
    "        W[l] = W[l] - alpha*dW[l]\n",
    "        \n",
    "    return b, W"
   ]
  },
  {
   "cell_type": "markdown",
   "metadata": {},
   "source": [
    "## Ein Modell Trainieren\n",
    "\n",
    "Wir können nun unser selbst programmiertes MLP Netzwerk mit einem echten Datensatz trainieren. Wir verwenden hier den bekannten MNIST Datensatz."
   ]
  },
  {
   "cell_type": "code",
   "execution_count": null,
   "metadata": {},
   "outputs": [],
   "source": [
    "try:\n",
    "    from tensorflow.keras import datasets , utils\n",
    "except:\n",
    "    import sys\n",
    "    !{sys.executable} -m pip install --upgrade pip\n",
    "    !{sys.executable} -m pip install tensorflow\n",
    "    #!{sys.executable} -m pip install tensorflow-macos tensorflow-metal\n",
    "    from tensorflow.keras import datasets , utils"
   ]
  },
  {
   "cell_type": "code",
   "execution_count": null,
   "metadata": {},
   "outputs": [],
   "source": [
    "#Importing MNIST from tensorflow dataset liabrary\n",
    "\n",
    "(X_train, y_train), (X_test, y_test) = datasets.mnist.load_data()"
   ]
  },
  {
   "cell_type": "markdown",
   "metadata": {},
   "source": [
    "Wenn wir den Datensatz geladen haben, können wir uns einige Beispiele der Daten anzeigen lassen:"
   ]
  },
  {
   "cell_type": "code",
   "execution_count": null,
   "metadata": {},
   "outputs": [],
   "source": [
    "fig, ax = plt.subplots(1, 10, figsize=(18,3))\n",
    "\n",
    "for i in range(10):\n",
    "    ax[i].set_title('Image label: %d' %i)\n",
    "    ax[i].axis('off')\n",
    "    ax[i].imshow(X_train[y_train == i][0], cmap='gray')\n",
    "plt.show()"
   ]
  },
  {
   "cell_type": "markdown",
   "metadata": {},
   "source": [
    "Für unser MLP Netzwerk machen wir aus den $28\\times{}28$ Pixel großen Bildern der Ziffern eindimensionale Vektoren der Länge $748$."
   ]
  },
  {
   "cell_type": "code",
   "execution_count": null,
   "metadata": {},
   "outputs": [],
   "source": [
    "# preprocessing\n",
    "print(\"Vorher:\", X_train.shape)\n",
    "X_train = X_train.reshape(-1, 28*28)/255\n",
    "X_test = X_test.reshape(-1, 28*28)/255\n",
    "y_train = utils.to_categorical(y_train)\n",
    "y_test = utils.to_categorical(y_test)\n",
    "print(\"Nachher:\", X_train.shape)"
   ]
  },
  {
   "cell_type": "markdown",
   "metadata": {},
   "source": [
    "Nun stellen wir aus allen zuvor definierten Funktionen unser Modell auf:"
   ]
  },
  {
   "cell_type": "code",
   "execution_count": null,
   "metadata": {},
   "outputs": [],
   "source": [
    "def model(X, y, layers_dims, alpha = 0.01, epoch = 20, batch_size = 400):\n",
    "    \"\"\"MLP, das die Softmax-Kostenfunktion mit dem Gradientenverfahren optimiert.\n",
    "    X: Eingabedatem\n",
    "    y: Labels\n",
    "    layers_dims: Liste mit en Dimensionen der Schichten\n",
    "    alpha(default = 0.01): Lernrate\n",
    "    epoch(default = 20): Anzahl der zu trainierenden Epochen\n",
    "    batch_size(default = 400): Größe eines Minibatches\n",
    "    \"\"\"\n",
    "    \n",
    "    costs = []\n",
    "    parameters = init(layers_dims)\n",
    "    b, W = parameters\n",
    "    \n",
    "    for i in range(epoch):\n",
    "        \n",
    "        for batch in range(0,len(y),batch_size):\n",
    "            y_hat, caches = forward(X[batch:batch+batch_size], b, W)\n",
    "            cost = J(y_hat, y[batch:batch+batch_size])\n",
    "            gradss = grads(y_hat, y[batch:batch+batch_size], caches)\n",
    "            parameters = optim(parameters, gradss, alpha)\n",
    "            b, W = parameters\n",
    "\n",
    "        costs.append(cost.item(0))\n",
    "        print(f'Epoch {i}: {cost.item(0)}')\n",
    "            \n",
    "    plt.plot(range(1,len(costs)),costs[1:], \"x-\")\n",
    "    plt.show()\n",
    "    return parameters"
   ]
  },
  {
   "cell_type": "code",
   "execution_count": null,
   "metadata": {},
   "outputs": [],
   "source": [
    "trained_weights_10 = model(X_train, y_train, [28*28, 10], 0.5)"
   ]
  },
  {
   "cell_type": "code",
   "execution_count": null,
   "metadata": {},
   "outputs": [],
   "source": [
    "class mlp_model:\n",
    "    \n",
    "    def __init__(self, X, y, layers_dims):\n",
    "        \"\"\"MLP Modell\n",
    "        X: Eingabedatem\n",
    "        y: Labels\n",
    "        layers_dims: Liste mit en Dimensionen der Schichten\n",
    "        \"\"\"\n",
    "        self.X = X\n",
    "        self.y = y\n",
    "        self.costs = []\n",
    "        self.parameters = init(layers_dims)\n",
    "        \n",
    "    def fit(self, alpha = 0.01, epoch = 20, batch_size = 400):\n",
    "        \"\"\"MLP, das die Softmax-Kostenfunktion mit dem Gradientenverfahren optimiert.\n",
    "        alpha(default = 0.01): Lernrate\n",
    "        epoch(default = 20): Anzahl der zu trainierenden Epochen\n",
    "        batch_size(default = 400): Größe eines Minibatches\n",
    "        \"\"\"\n",
    "        \n",
    "        b, W = self.parameters\n",
    "    \n",
    "        for i in range(epoch):\n",
    "        \n",
    "            for batch in range(0,len(self.y),batch_size):\n",
    "                y_hat, caches = forward(self.X[batch:batch+batch_size], b, W)\n",
    "                cost = J(y_hat, self.y[batch:batch+batch_size])\n",
    "                gradss = grads(y_hat, self.y[batch:batch+batch_size], caches)\n",
    "                self.parameters = optim(self.parameters, gradss, alpha)\n",
    "                b, W = self.parameters\n",
    "\n",
    "            self.costs.append(cost.item(0))\n",
    "            print(f'Epoch {i}: {cost.item(0):.5}')\n",
    "            \n",
    "        plt.plot(range(1,len(self.costs)),self.costs[1:], \"x-\")\n",
    "        plt.show()\n",
    "        return self.parameters\n",
    "    \n",
    "    def predict(self, X):\n",
    "        \"\"\"Vorhersagefunktion für das trainierte Modell.\"\"\"\n",
    "    \n",
    "        b, W = self.parameters\n",
    "        y_pred, _ = forward(X, b, W)\n",
    "    \n",
    "        return (y_pred>=0.5)*1\n",
    "    \n",
    "    def accuracy(y_test, y_pred_0):\n",
    "        return 100-np.sum(np.abs(y_pred_0-y_test))*100/len(y_test)"
   ]
  },
  {
   "cell_type": "code",
   "execution_count": null,
   "metadata": {},
   "outputs": [],
   "source": [
    "model_10 = mlp_model(X_train, y_train, [28*28, 10])\n",
    "trained_weights_10 = model_10.fit(0.5)"
   ]
  },
  {
   "cell_type": "code",
   "execution_count": null,
   "metadata": {},
   "outputs": [],
   "source": [
    "y_pred_10 = model_10.predict(X_test)\n",
    "mlp_model.accuracy(y_test, y_pred_10)"
   ]
  },
  {
   "cell_type": "code",
   "execution_count": null,
   "metadata": {},
   "outputs": [],
   "source": [
    "model_20_10 = mlp_model(X_train, y_train, [28*28, 20, 10])\n",
    "trained_weights_20_10 = model_20_10.fit(0.5)"
   ]
  },
  {
   "cell_type": "code",
   "execution_count": null,
   "metadata": {},
   "outputs": [],
   "source": [
    "y_pred_20_10 = model_20_10.predict(X_test)\n",
    "mlp_model.accuracy(y_test, y_pred_20_10)"
   ]
  },
  {
   "cell_type": "markdown",
   "metadata": {},
   "source": [
    "# Neuronale Netze mit Keras\n",
    "\n",
    "In dieser Aufgabenblatt geht es darum, ein einfachen Künstliches Neuronales Netz für ein Regressionsproblem mit der Keras API zu implementieren.\n",
    "\n",
    "Wir verwenden den *Boston Housing* Datensatz, der als Standard-Anwendungsbeispiel über die Keras API heruntergeladen werden kann.\n",
    "\n",
    "Der Datensatz beschreibt die Wohnverhältnisse in verschieden Gebieten um Boston in den 1970er Jahren.\n",
    "Er enthält 506 Einträge mit jeweils 13 numerischen Merkmalen, die Zielvariable beschreibt den mittleren Wert der Häuserpreise in dem jeweiligen Bezirk (in Tausend USD).\n",
    "\n",
    "Gute Modelle sollten Vorhersagen mit einer mittlere quadratische Abweichung (*mean squared error*, MSE) unterhalb 20 (Tausend USD) treffen.\n",
    "\n"
   ]
  },
  {
   "cell_type": "markdown",
   "metadata": {},
   "source": [
    "Zuerst binden wir die wichtigsten Bibliotheken ein und laden den Datensatz mit der Funktion `boston_housing.load_data()` herunter."
   ]
  },
  {
   "cell_type": "code",
   "execution_count": null,
   "metadata": {},
   "outputs": [],
   "source": [
    "import numpy as np\n",
    "import pandas as pd\n",
    "import tensorflow as tf\n",
    "from tensorflow.keras import models, layers, datasets"
   ]
  },
  {
   "cell_type": "code",
   "execution_count": null,
   "metadata": {},
   "outputs": [],
   "source": [
    "(X_train, y_train), (X_test, y_test) = datasets.boston_housing.load_data()"
   ]
  },
  {
   "cell_type": "code",
   "execution_count": null,
   "metadata": {},
   "outputs": [],
   "source": [
    "mean = X_train.mean(axis=0)\n",
    "X_train -= mean\n",
    "std = X_train.std(axis=0)\n",
    "X_train /= std\n",
    "\n",
    "X_test -= mean\n",
    "X_test /= std\n",
    "\n",
    "X_test.shape"
   ]
  },
  {
   "cell_type": "code",
   "execution_count": null,
   "metadata": {},
   "outputs": [],
   "source": [
    "model = models.Sequential()\n",
    "model.add(layers.Dense(32, activation='relu', input_shape=(X_train.shape[1],)))\n",
    "model.add(layers.Dense(64, activation='relu'))\n",
    "model.add(layers.Dense(1))"
   ]
  },
  {
   "cell_type": "markdown",
   "metadata": {},
   "source": [
    "Nachdem die Modellparameter zusammengestellt sind, muss die Eigentliche Modellfunktion erstellt werden.\n",
    "In Tensorflow wird damit der Graph des Modells erzeugt.\n",
    "Die `compile`-Funktion kann mit verschiedenen Parametern angepasst werden:\n",
    "- `optimizer` legt die Art (den Algorithmus) des Gradientenverfahrens fest. (https://keras.io/optimizers/)\n",
    "- `loss` bestimmt die Art der Kostenfunktion (https://keras.io/losses/)\n",
    "- `metrics` legt fest, welche Qualitätsmerkmale beim Trainieren überprüft werden sollen (https://keras.io/metrics/)\n",
    "\n"
   ]
  },
  {
   "cell_type": "code",
   "execution_count": null,
   "metadata": {},
   "outputs": [],
   "source": [
    "model.compile(\n",
    "    optimizer='SGD',\n",
    "    loss='mse',\n",
    "    metrics=['mae','mape'])"
   ]
  },
  {
   "cell_type": "markdown",
   "metadata": {},
   "source": [
    "Um die Ergebnisse zu visulaisieren, legen wir ein Log-Verzeichnis pro Lauf des Verfahrens an, in das wir die Informationen der `fit`-Funktion schreiben.\n",
    "Damit können wir später die Ergebnisse der einzelnen Trainingsläufe vergeleichen."
   ]
  },
  {
   "cell_type": "code",
   "execution_count": null,
   "metadata": {},
   "outputs": [],
   "source": [
    "import time\n",
    "newlog = '.\\\\keras_data\\\\run_' + time.strftime(\"%Y%m%d-%H%M%S\")\n",
    "tbCallBack = tf.keras.callbacks.TensorBoard(log_dir=newlog, histogram_freq=0, write_graph=True, write_images=True)"
   ]
  },
  {
   "cell_type": "markdown",
   "metadata": {},
   "source": [
    "Nun rufen wir die `fit`-Funktion auf, um die Modellparameter zu lernen."
   ]
  },
  {
   "cell_type": "code",
   "execution_count": null,
   "metadata": {},
   "outputs": [],
   "source": [
    "model.fit(\n",
    "    X_train,\n",
    "    y_train,\n",
    "    epochs=200,\n",
    "    batch_size=64,\n",
    "    callbacks=[tbCallBack]\n",
    ")"
   ]
  },
  {
   "cell_type": "markdown",
   "metadata": {},
   "source": [
    "Nach dem Training verwenden wir die Testdaten, um unser trainiertes Modell zu evaluieren"
   ]
  },
  {
   "cell_type": "code",
   "execution_count": null,
   "metadata": {},
   "outputs": [],
   "source": [
    "mse_score, mae_score, mape_score = model.evaluate(X_test, y_test, verbose=False)\n",
    "print(\"Mittlwert der Fehlerquadrate: \", mse_score)\n",
    "print(\"Mittlerer absoluter Fehler: \", mae_score)\n",
    "print(\"Mittlerer absoluter Fehler (in Prozent): \", mape_score)"
   ]
  },
  {
   "cell_type": "markdown",
   "metadata": {},
   "source": [
    "Das Trainierte Modell schätzt die Häuserpreise vermutlich nicht sonderlich gut.\n",
    "Dies liegt an der sehr unglücklichen Wahl der (Hyper-)Parameter.\n",
    "Versuchen Sie die Parameter sinnvoll anzupassen, sodass sich die Qualität der Schaätzfunktion verbessert.\n",
    "\n",
    "Um die Log-Dateien sowie den Modellgraphnen zu visualisieren, können die Tensorboard verwenden.\n",
    "Rufen Sie daszu (im Verzeichnis der *.ipynb* Datei) das Kommando `tensorboard --logdir=./keras_data` auf.\n",
    "Wenn Tensorboard gestartet ist, erreichen Sie die Web-Oberfläche unter der URL `localhost:8008`."
   ]
  },
  {
   "cell_type": "code",
   "execution_count": null,
   "metadata": {},
   "outputs": [],
   "source": [
    "for a in model.get_weights():\n",
    "    print(np.shape(a))"
   ]
  },
  {
   "cell_type": "code",
   "execution_count": null,
   "metadata": {},
   "outputs": [],
   "source": [
    "model.summary()"
   ]
  },
  {
   "cell_type": "markdown",
   "metadata": {},
   "source": [
    "Wir verwenden nun in einem zweiten Beispiel Keras mit dem MNIST Datensatz:\n",
    "\n",
    "### Beschaffen der Daten und Vorverarbeiten\n",
    "\n",
    "1. Daten mit `datasets.mnist.load_data()` laden\n",
    "2. Bilder in eindimensionale Arrays umwandeln mit `reshape`. Teilen durch 255 um zu Normalisieren.\n",
    "3. One-Hot Encoding der Labels mit `utils.to_categorical`"
   ]
  },
  {
   "cell_type": "code",
   "execution_count": null,
   "metadata": {
    "deletable": false,
    "nbgrader": {
     "grade": false,
     "grade_id": "cell-a1780d72ee450607",
     "locked": false,
     "schema_version": 3,
     "solution": true,
     "task": false
    }
   },
   "outputs": [],
   "source": [
    "# Data loading\n",
    "(X_train, y_train), (X_test, y_test) = (None, None), (None, None)\n",
    "# YOUR CODE HERE\n",
    "raise NotImplementedError()\n",
    "\n",
    "\n",
    "# Data preprocessing\n",
    "# YOUR CODE HERE\n",
    "raise NotImplementedError()"
   ]
  },
  {
   "cell_type": "code",
   "execution_count": null,
   "metadata": {
    "deletable": false,
    "editable": false,
    "nbgrader": {
     "grade": true,
     "grade_id": "cell-b51934e76e8f110e",
     "locked": true,
     "points": 1,
     "schema_version": 3,
     "solution": false,
     "task": false
    }
   },
   "outputs": [],
   "source": [
    "# Test Cell\n",
    "#----------\n",
    "\n",
    "assert X_train.ptp() == X_test.ptp() == 1, 'Data is not nomalized'\n",
    "assert X_train.shape == (60000, 784)\n",
    "assert X_test.shape == (10000, 784)\n",
    "assert y_train.shape == (60000, 10), 'Make sure to one hot encode train labels'\n",
    "assert y_test.shape == (10000, 10), 'Make sure to one hot encode test labels'"
   ]
  },
  {
   "cell_type": "markdown",
   "metadata": {},
   "source": [
    "### Das Modell aufstellen\n",
    "Erstellen Sie ein Modell mit geeigneten Hyperparametern:\n",
    "\n",
    "*Hinweise:*\n",
    "- Verwenden Sie die `softmax` Aktivierungsfunktion um die Ausgabeschicht in eine Wahrscheinlichkeitsfunktion umzuwandeln.\n",
    "- `input_shape` ist ein Vektor der Dimension `(784,)`"
   ]
  },
  {
   "cell_type": "code",
   "execution_count": null,
   "metadata": {
    "deletable": false,
    "nbgrader": {
     "grade": false,
     "grade_id": "cell-ee3d61912367ba52",
     "locked": false,
     "schema_version": 3,
     "solution": true,
     "task": false
    }
   },
   "outputs": [],
   "source": [
    "mnist_model = None\n",
    "\n",
    "# YOUR CODE HERE\n",
    "raise NotImplementedError()"
   ]
  },
  {
   "cell_type": "code",
   "execution_count": null,
   "metadata": {
    "deletable": false,
    "editable": false,
    "nbgrader": {
     "grade": true,
     "grade_id": "cell-9f1b71a062361e10",
     "locked": true,
     "points": 1,
     "schema_version": 3,
     "solution": false,
     "task": false
    }
   },
   "outputs": [],
   "source": [
    "# Test Cell\n",
    "#----------\n",
    "\n",
    "assert type(mnist_model) == models.Sequential\n",
    "assert mnist_model.built, 'The model is not built'\n",
    "assert len(mnist_model.layers) > 2, 'You should have at least one hidden layer'\n",
    "assert mnist_model.input_shape[1:] == X_train[0].shape, 'Input must match the features of the image'\n",
    "assert mnist_model.output_shape[1] == 10, 'Output must match the number of classes'"
   ]
  },
  {
   "cell_type": "markdown",
   "metadata": {},
   "source": [
    "### Modell Kompilieren\n",
    "Verwenden Sie `compile` um den `optimizer`, die `loss` Funktion und die `metrics` festzulegen.\n",
    "\n",
    "*Hinweise:* \n",
    "- Da wir `softmax` verwenden, wählen wir die Kostenfunktion `categorical_crossentropy`.\n",
    "- `accuracy` ist an dieser Stelle eine gute Metrik für die Klassifikation"
   ]
  },
  {
   "cell_type": "code",
   "execution_count": null,
   "metadata": {
    "deletable": false,
    "nbgrader": {
     "grade": false,
     "grade_id": "cell-f41104f1f759e66f",
     "locked": false,
     "schema_version": 3,
     "solution": true,
     "task": false
    }
   },
   "outputs": [],
   "source": [
    "# YOUR CODE HERE\n",
    "raise NotImplementedError()"
   ]
  },
  {
   "cell_type": "code",
   "execution_count": null,
   "metadata": {
    "deletable": false,
    "editable": false,
    "nbgrader": {
     "grade": true,
     "grade_id": "cell-6e6195d6ba6fa627",
     "locked": true,
     "points": 1,
     "schema_version": 3,
     "solution": false,
     "task": false
    }
   },
   "outputs": [],
   "source": [
    "# Test Cell\n",
    "#----------\n",
    "\n",
    "\n",
    "assert mnist_model.loss\n",
    "assert mnist_model.optimizer"
   ]
  },
  {
   "cell_type": "markdown",
   "metadata": {},
   "source": [
    "### Training\n",
    "Trainieren Sie das Modell mit der `fit` Funktion."
   ]
  },
  {
   "cell_type": "code",
   "execution_count": null,
   "metadata": {
    "deletable": false,
    "nbgrader": {
     "grade": false,
     "grade_id": "cell-9c7096937405635f",
     "locked": false,
     "schema_version": 3,
     "solution": true,
     "task": false
    }
   },
   "outputs": [],
   "source": [
    "# YOUR CODE HERE\n",
    "raise NotImplementedError()"
   ]
  },
  {
   "cell_type": "code",
   "execution_count": null,
   "metadata": {
    "deletable": false,
    "editable": false,
    "nbgrader": {
     "grade": true,
     "grade_id": "cell-fc3dc3a7dd085783",
     "locked": true,
     "points": 1,
     "schema_version": 3,
     "solution": false,
     "task": false
    }
   },
   "outputs": [],
   "source": [
    "# Test Cell\n",
    "#----------\n",
    "\n",
    "assert len(mnist_model.history.epoch) >= 2"
   ]
  },
  {
   "cell_type": "markdown",
   "metadata": {},
   "source": [
    "### Testen\n",
    "Evaluieren Sie das Modell mit der `evaluate` Funktion:"
   ]
  },
  {
   "cell_type": "code",
   "execution_count": null,
   "metadata": {
    "deletable": false,
    "nbgrader": {
     "grade": false,
     "grade_id": "cell-daf429a21c6e809b",
     "locked": false,
     "schema_version": 3,
     "solution": true,
     "task": false
    }
   },
   "outputs": [],
   "source": [
    "loss, acc = [None]*2\n",
    "\n",
    "# YOUR CODE HERE\n",
    "raise NotImplementedError()\n",
    "print(\"loss: %.4f - accuracy: %.4f \" %(loss, acc))"
   ]
  },
  {
   "cell_type": "markdown",
   "metadata": {},
   "source": [
    "### Visualisierung"
   ]
  },
  {
   "cell_type": "code",
   "execution_count": null,
   "metadata": {},
   "outputs": [],
   "source": [
    "img_i = np.random.randint(10000, size=8)\n",
    "fig, ax = plt.subplots(1, 8, figsize=(18,3))\n",
    "for i, j in enumerate(img_i):\n",
    "    ax[i].set_title('True: %d\\nPredicted: %d' %(np.argmax(y_test[j]),\n",
    "                np.argmax(mnist_model.predict(X_test[j].reshape(1, -1)), axis=-1)))\n",
    "    ax[i].axis('off')\n",
    "    ax[i].imshow(X_test[j].reshape(28,28), cmap='gray')\n",
    "plt.show()"
   ]
  },
  {
   "cell_type": "code",
   "execution_count": null,
   "metadata": {},
   "outputs": [],
   "source": [
    "mnist_model.summary()"
   ]
  },
  {
   "cell_type": "markdown",
   "metadata": {},
   "source": [
    "## Referenzen:\n",
    "[1] M. Berthold, C. Borgelt, F. Höppner and F. Klawonn, Guide to Intelligent Data Analysis, London: Springer-Verlag, 2010.  \n",
    "[2] A. Ng, Machine Learning Yearning, deeplearning.ai, 2018.  \n",
    "\n",
    "**Tipp:** Schauen Sie sich die Playlist von *3Blue1Brown* über Neuronale Netze auf [Youtube](https://www.youtube.com/playlist?list=PLZHQObOWTQDNU6R1_67000Dx_ZCJB-3pi) an"
   ]
  }
 ],
 "metadata": {
  "kernelspec": {
   "display_name": "Python 3 (ipykernel)",
   "language": "python",
   "name": "python3"
  },
  "language_info": {
   "codemirror_mode": {
    "name": "ipython",
    "version": 3
   },
   "file_extension": ".py",
   "mimetype": "text/x-python",
   "name": "python",
   "nbconvert_exporter": "python",
   "pygments_lexer": "ipython3",
   "version": "3.10.8"
  },
  "varInspector": {
   "cols": {
    "lenName": 16,
    "lenType": 16,
    "lenVar": 40
   },
   "kernels_config": {
    "python": {
     "delete_cmd_postfix": "",
     "delete_cmd_prefix": "del ",
     "library": "var_list.py",
     "varRefreshCmd": "print(var_dic_list())"
    },
    "r": {
     "delete_cmd_postfix": ") ",
     "delete_cmd_prefix": "rm(",
     "library": "var_list.r",
     "varRefreshCmd": "cat(var_dic_list()) "
    }
   },
   "types_to_exclude": [
    "module",
    "function",
    "builtin_function_or_method",
    "instance",
    "_Feature"
   ],
   "window_display": false
  }
 },
 "nbformat": 4,
 "nbformat_minor": 4
}
